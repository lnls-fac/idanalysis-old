{
 "cells": [
  {
   "cell_type": "code",
   "execution_count": 1,
   "metadata": {
    "ExecuteTime": {
     "end_time": "2022-03-21T13:56:18.172560Z",
     "start_time": "2022-03-21T13:56:18.168186Z"
    }
   },
   "outputs": [
    {
     "name": "stderr",
     "output_type": "stream",
     "text": [
      "Warning: Ignoring XDG_SESSION_TYPE=wayland on Gnome. Use QT_QPA_PLATFORM=wayland to run on Wayland anyway.\n"
     ]
    }
   ],
   "source": [
    "%matplotlib qt5\n",
    "#%matplotlib inline\n",
    "\n",
    "import numpy as np\n",
    "import matplotlib.pyplot as plt\n",
    "from matplotlib import rcParams\n",
    "\n",
    "rcParams.update({\n",
    "    'font.size': 14, 'grid.alpha': 0.5, 'grid.linestyle': '--',\n",
    "    'axes.grid': True,\n",
    "})"
   ]
  },
  {
   "cell_type": "markdown",
   "metadata": {},
   "source": [
    "# Pymodels\n",
    "\n",
    "Python module for accelerator modelling"
   ]
  },
  {
   "cell_type": "markdown",
   "metadata": {
    "heading_collapsed": true
   },
   "source": [
    "### Accelerator Models\n",
    "\n",
    "- Linac: li\n",
    "- Transport Line - Linac to Booster: tb\n",
    "- Booster: bo\n",
    "- Transport Line - Booster to Sirius: ts\n",
    "- Sirius (Storage Ring): si"
   ]
  },
  {
   "cell_type": "code",
   "execution_count": 2,
   "metadata": {
    "ExecuteTime": {
     "end_time": "2022-03-21T13:56:19.418862Z",
     "start_time": "2022-03-21T13:56:19.416672Z"
    },
    "hidden": true
   },
   "outputs": [],
   "source": [
    "import pymodels"
   ]
  },
  {
   "cell_type": "code",
   "execution_count": 3,
   "metadata": {
    "ExecuteTime": {
     "end_time": "2022-03-21T13:56:21.543058Z",
     "start_time": "2022-03-21T13:56:21.304646Z"
    },
    "hidden": true
   },
   "outputs": [],
   "source": [
    "model = pymodels.si.create_accelerator()\n",
    "model.cavity_on = False\n",
    "model.radiation_on = False\n",
    "model.vchamber_on = False"
   ]
  },
  {
   "cell_type": "code",
   "execution_count": 4,
   "metadata": {
    "ExecuteTime": {
     "end_time": "2022-03-21T13:56:22.826968Z",
     "start_time": "2022-03-21T13:56:22.824434Z"
    },
    "hidden": true
   },
   "outputs": [
    {
     "name": "stdout",
     "output_type": "stream",
     "text": [
      "energy         : 3000000000.0 eV\n",
      "harmonic_number: 864\n",
      "cavity_on      : False\n",
      "radiation_on   : False\n",
      "vchamber_on    : False\n",
      "lattice size   : 6490\n",
      "lattice length : 518.3898999999926 m\n"
     ]
    }
   ],
   "source": [
    "print(model)"
   ]
  },
  {
   "cell_type": "markdown",
   "metadata": {
    "ExecuteTime": {
     "end_time": "2022-03-21T14:02:21.242387Z",
     "start_time": "2022-03-21T14:02:21.237378Z"
    },
    "hidden": true
   },
   "source": [
    "**Family** = A set of objects of exactly same type. \n",
    "\n",
    "Examples:\n",
    "- Central Dipoles (BC)\n",
    "- Focusing quadrupoles in high beta segments (QFA)\n",
    "- Beam Position Monitors (BPM)\n",
    "\n",
    "Getting data about families:"
   ]
  },
  {
   "cell_type": "code",
   "execution_count": 5,
   "metadata": {
    "ExecuteTime": {
     "end_time": "2022-03-21T13:56:25.444661Z",
     "start_time": "2022-03-21T13:56:24.888325Z"
    },
    "hidden": true
   },
   "outputs": [],
   "source": [
    "# fam_name with devname, index, subsection\n",
    "famdata = pymodels.si.get_family_data(model)"
   ]
  },
  {
   "cell_type": "code",
   "execution_count": null,
   "metadata": {},
   "outputs": [],
   "source": []
  },
  {
   "cell_type": "code",
   "execution_count": 6,
   "metadata": {
    "ExecuteTime": {
     "end_time": "2022-03-21T13:57:42.354324Z",
     "start_time": "2022-03-21T13:57:42.343525Z"
    },
    "hidden": true,
    "scrolled": true
   },
   "outputs": [
    {
     "data": {
      "text/plain": [
       "['01BC',\n",
       " '02BC',\n",
       " '03BC',\n",
       " '04BC',\n",
       " '05BC',\n",
       " '06BC',\n",
       " '07BC',\n",
       " '08BC',\n",
       " '09BC',\n",
       " '10BC',\n",
       " '11BC',\n",
       " '12BC',\n",
       " '13BC',\n",
       " '14BC',\n",
       " '15BC',\n",
       " '16BC',\n",
       " '17BC',\n",
       " '18BC',\n",
       " '19BC',\n",
       " '20BC']"
      ]
     },
     "execution_count": 6,
     "metadata": {},
     "output_type": "execute_result"
    }
   ],
   "source": [
    "famdata['BC']['subsection']"
   ]
  },
  {
   "cell_type": "code",
   "execution_count": 7,
   "metadata": {
    "ExecuteTime": {
     "end_time": "2022-03-21T13:59:02.171983Z",
     "start_time": "2022-03-21T13:59:02.165773Z"
    },
    "hidden": true,
    "scrolled": true
   },
   "outputs": [],
   "source": [
    "bcidx = famdata['BC']['index']"
   ]
  },
  {
   "cell_type": "code",
   "execution_count": 10,
   "metadata": {},
   "outputs": [
    {
     "data": {
      "text/plain": [
       "[[143,\n",
       "  144,\n",
       "  145,\n",
       "  147,\n",
       "  148,\n",
       "  149,\n",
       "  151,\n",
       "  152,\n",
       "  154,\n",
       "  155,\n",
       "  156,\n",
       "  157,\n",
       "  158,\n",
       "  159,\n",
       "  160,\n",
       "  161,\n",
       "  162,\n",
       "  165,\n",
       "  166,\n",
       "  167,\n",
       "  168,\n",
       "  169,\n",
       "  170,\n",
       "  171,\n",
       "  172,\n",
       "  173,\n",
       "  175,\n",
       "  176,\n",
       "  178,\n",
       "  179,\n",
       "  180,\n",
       "  182,\n",
       "  183,\n",
       "  184],\n",
       " [468,\n",
       "  469,\n",
       "  470,\n",
       "  472,\n",
       "  473,\n",
       "  474,\n",
       "  476,\n",
       "  477,\n",
       "  479,\n",
       "  480,\n",
       "  481,\n",
       "  482,\n",
       "  483,\n",
       "  484,\n",
       "  485,\n",
       "  486,\n",
       "  487,\n",
       "  490,\n",
       "  491,\n",
       "  492,\n",
       "  493,\n",
       "  494,\n",
       "  495,\n",
       "  496,\n",
       "  497,\n",
       "  498,\n",
       "  500,\n",
       "  501,\n",
       "  503,\n",
       "  504,\n",
       "  505,\n",
       "  507,\n",
       "  508,\n",
       "  509],\n",
       " [791,\n",
       "  792,\n",
       "  793,\n",
       "  795,\n",
       "  796,\n",
       "  797,\n",
       "  799,\n",
       "  800,\n",
       "  802,\n",
       "  803,\n",
       "  804,\n",
       "  805,\n",
       "  806,\n",
       "  807,\n",
       "  808,\n",
       "  809,\n",
       "  810,\n",
       "  813,\n",
       "  814,\n",
       "  815,\n",
       "  816,\n",
       "  817,\n",
       "  818,\n",
       "  819,\n",
       "  820,\n",
       "  821,\n",
       "  823,\n",
       "  824,\n",
       "  826,\n",
       "  827,\n",
       "  828,\n",
       "  830,\n",
       "  831,\n",
       "  832],\n",
       " [1115,\n",
       "  1116,\n",
       "  1117,\n",
       "  1119,\n",
       "  1120,\n",
       "  1121,\n",
       "  1123,\n",
       "  1124,\n",
       "  1126,\n",
       "  1127,\n",
       "  1128,\n",
       "  1129,\n",
       "  1130,\n",
       "  1131,\n",
       "  1132,\n",
       "  1133,\n",
       "  1134,\n",
       "  1137,\n",
       "  1138,\n",
       "  1139,\n",
       "  1140,\n",
       "  1141,\n",
       "  1142,\n",
       "  1143,\n",
       "  1144,\n",
       "  1145,\n",
       "  1147,\n",
       "  1148,\n",
       "  1150,\n",
       "  1151,\n",
       "  1152,\n",
       "  1154,\n",
       "  1155,\n",
       "  1156],\n",
       " [1435,\n",
       "  1436,\n",
       "  1437,\n",
       "  1439,\n",
       "  1440,\n",
       "  1441,\n",
       "  1443,\n",
       "  1444,\n",
       "  1446,\n",
       "  1447,\n",
       "  1448,\n",
       "  1449,\n",
       "  1450,\n",
       "  1451,\n",
       "  1452,\n",
       "  1453,\n",
       "  1454,\n",
       "  1457,\n",
       "  1458,\n",
       "  1459,\n",
       "  1460,\n",
       "  1461,\n",
       "  1462,\n",
       "  1463,\n",
       "  1464,\n",
       "  1465,\n",
       "  1467,\n",
       "  1468,\n",
       "  1470,\n",
       "  1471,\n",
       "  1472,\n",
       "  1474,\n",
       "  1475,\n",
       "  1476],\n",
       " [1759,\n",
       "  1760,\n",
       "  1761,\n",
       "  1763,\n",
       "  1764,\n",
       "  1765,\n",
       "  1767,\n",
       "  1768,\n",
       "  1770,\n",
       "  1771,\n",
       "  1772,\n",
       "  1773,\n",
       "  1774,\n",
       "  1775,\n",
       "  1776,\n",
       "  1777,\n",
       "  1778,\n",
       "  1781,\n",
       "  1782,\n",
       "  1783,\n",
       "  1784,\n",
       "  1785,\n",
       "  1786,\n",
       "  1787,\n",
       "  1788,\n",
       "  1789,\n",
       "  1791,\n",
       "  1792,\n",
       "  1794,\n",
       "  1795,\n",
       "  1796,\n",
       "  1798,\n",
       "  1799,\n",
       "  1800],\n",
       " [2083,\n",
       "  2084,\n",
       "  2085,\n",
       "  2087,\n",
       "  2088,\n",
       "  2089,\n",
       "  2091,\n",
       "  2092,\n",
       "  2094,\n",
       "  2095,\n",
       "  2096,\n",
       "  2097,\n",
       "  2098,\n",
       "  2099,\n",
       "  2100,\n",
       "  2101,\n",
       "  2102,\n",
       "  2105,\n",
       "  2106,\n",
       "  2107,\n",
       "  2108,\n",
       "  2109,\n",
       "  2110,\n",
       "  2111,\n",
       "  2112,\n",
       "  2113,\n",
       "  2115,\n",
       "  2116,\n",
       "  2118,\n",
       "  2119,\n",
       "  2120,\n",
       "  2122,\n",
       "  2123,\n",
       "  2124],\n",
       " [2407,\n",
       "  2408,\n",
       "  2409,\n",
       "  2411,\n",
       "  2412,\n",
       "  2413,\n",
       "  2415,\n",
       "  2416,\n",
       "  2418,\n",
       "  2419,\n",
       "  2420,\n",
       "  2421,\n",
       "  2422,\n",
       "  2423,\n",
       "  2424,\n",
       "  2425,\n",
       "  2426,\n",
       "  2429,\n",
       "  2430,\n",
       "  2431,\n",
       "  2432,\n",
       "  2433,\n",
       "  2434,\n",
       "  2435,\n",
       "  2436,\n",
       "  2437,\n",
       "  2439,\n",
       "  2440,\n",
       "  2442,\n",
       "  2443,\n",
       "  2444,\n",
       "  2446,\n",
       "  2447,\n",
       "  2448],\n",
       " [2725,\n",
       "  2726,\n",
       "  2727,\n",
       "  2729,\n",
       "  2730,\n",
       "  2731,\n",
       "  2733,\n",
       "  2734,\n",
       "  2736,\n",
       "  2737,\n",
       "  2738,\n",
       "  2739,\n",
       "  2740,\n",
       "  2741,\n",
       "  2742,\n",
       "  2743,\n",
       "  2744,\n",
       "  2747,\n",
       "  2748,\n",
       "  2749,\n",
       "  2750,\n",
       "  2751,\n",
       "  2752,\n",
       "  2753,\n",
       "  2754,\n",
       "  2755,\n",
       "  2757,\n",
       "  2758,\n",
       "  2760,\n",
       "  2761,\n",
       "  2762,\n",
       "  2764,\n",
       "  2765,\n",
       "  2766],\n",
       " [3051,\n",
       "  3052,\n",
       "  3053,\n",
       "  3055,\n",
       "  3056,\n",
       "  3057,\n",
       "  3059,\n",
       "  3060,\n",
       "  3062,\n",
       "  3063,\n",
       "  3064,\n",
       "  3065,\n",
       "  3066,\n",
       "  3067,\n",
       "  3068,\n",
       "  3069,\n",
       "  3070,\n",
       "  3073,\n",
       "  3074,\n",
       "  3075,\n",
       "  3076,\n",
       "  3077,\n",
       "  3078,\n",
       "  3079,\n",
       "  3080,\n",
       "  3081,\n",
       "  3083,\n",
       "  3084,\n",
       "  3086,\n",
       "  3087,\n",
       "  3088,\n",
       "  3090,\n",
       "  3091,\n",
       "  3092],\n",
       " [3375,\n",
       "  3376,\n",
       "  3377,\n",
       "  3379,\n",
       "  3380,\n",
       "  3381,\n",
       "  3383,\n",
       "  3384,\n",
       "  3386,\n",
       "  3387,\n",
       "  3388,\n",
       "  3389,\n",
       "  3390,\n",
       "  3391,\n",
       "  3392,\n",
       "  3393,\n",
       "  3394,\n",
       "  3397,\n",
       "  3398,\n",
       "  3399,\n",
       "  3400,\n",
       "  3401,\n",
       "  3402,\n",
       "  3403,\n",
       "  3404,\n",
       "  3405,\n",
       "  3407,\n",
       "  3408,\n",
       "  3410,\n",
       "  3411,\n",
       "  3412,\n",
       "  3414,\n",
       "  3415,\n",
       "  3416],\n",
       " [3703,\n",
       "  3704,\n",
       "  3705,\n",
       "  3707,\n",
       "  3708,\n",
       "  3709,\n",
       "  3711,\n",
       "  3712,\n",
       "  3714,\n",
       "  3715,\n",
       "  3716,\n",
       "  3717,\n",
       "  3718,\n",
       "  3719,\n",
       "  3720,\n",
       "  3721,\n",
       "  3722,\n",
       "  3725,\n",
       "  3726,\n",
       "  3727,\n",
       "  3728,\n",
       "  3729,\n",
       "  3730,\n",
       "  3731,\n",
       "  3732,\n",
       "  3733,\n",
       "  3735,\n",
       "  3736,\n",
       "  3738,\n",
       "  3739,\n",
       "  3740,\n",
       "  3742,\n",
       "  3743,\n",
       "  3744],\n",
       " [4024,\n",
       "  4025,\n",
       "  4026,\n",
       "  4028,\n",
       "  4029,\n",
       "  4030,\n",
       "  4032,\n",
       "  4033,\n",
       "  4035,\n",
       "  4036,\n",
       "  4037,\n",
       "  4038,\n",
       "  4039,\n",
       "  4040,\n",
       "  4041,\n",
       "  4042,\n",
       "  4043,\n",
       "  4046,\n",
       "  4047,\n",
       "  4048,\n",
       "  4049,\n",
       "  4050,\n",
       "  4051,\n",
       "  4052,\n",
       "  4053,\n",
       "  4054,\n",
       "  4056,\n",
       "  4057,\n",
       "  4059,\n",
       "  4060,\n",
       "  4061,\n",
       "  4063,\n",
       "  4064,\n",
       "  4065],\n",
       " [4350,\n",
       "  4351,\n",
       "  4352,\n",
       "  4354,\n",
       "  4355,\n",
       "  4356,\n",
       "  4358,\n",
       "  4359,\n",
       "  4361,\n",
       "  4362,\n",
       "  4363,\n",
       "  4364,\n",
       "  4365,\n",
       "  4366,\n",
       "  4367,\n",
       "  4368,\n",
       "  4369,\n",
       "  4372,\n",
       "  4373,\n",
       "  4374,\n",
       "  4375,\n",
       "  4376,\n",
       "  4377,\n",
       "  4378,\n",
       "  4379,\n",
       "  4380,\n",
       "  4382,\n",
       "  4383,\n",
       "  4385,\n",
       "  4386,\n",
       "  4387,\n",
       "  4389,\n",
       "  4390,\n",
       "  4391],\n",
       " [4676,\n",
       "  4677,\n",
       "  4678,\n",
       "  4680,\n",
       "  4681,\n",
       "  4682,\n",
       "  4684,\n",
       "  4685,\n",
       "  4687,\n",
       "  4688,\n",
       "  4689,\n",
       "  4690,\n",
       "  4691,\n",
       "  4692,\n",
       "  4693,\n",
       "  4694,\n",
       "  4695,\n",
       "  4698,\n",
       "  4699,\n",
       "  4700,\n",
       "  4701,\n",
       "  4702,\n",
       "  4703,\n",
       "  4704,\n",
       "  4705,\n",
       "  4706,\n",
       "  4708,\n",
       "  4709,\n",
       "  4711,\n",
       "  4712,\n",
       "  4713,\n",
       "  4715,\n",
       "  4716,\n",
       "  4717],\n",
       " [5002,\n",
       "  5003,\n",
       "  5004,\n",
       "  5006,\n",
       "  5007,\n",
       "  5008,\n",
       "  5010,\n",
       "  5011,\n",
       "  5013,\n",
       "  5014,\n",
       "  5015,\n",
       "  5016,\n",
       "  5017,\n",
       "  5018,\n",
       "  5019,\n",
       "  5020,\n",
       "  5021,\n",
       "  5024,\n",
       "  5025,\n",
       "  5026,\n",
       "  5027,\n",
       "  5028,\n",
       "  5029,\n",
       "  5030,\n",
       "  5031,\n",
       "  5032,\n",
       "  5034,\n",
       "  5035,\n",
       "  5037,\n",
       "  5038,\n",
       "  5039,\n",
       "  5041,\n",
       "  5042,\n",
       "  5043],\n",
       " [5325,\n",
       "  5326,\n",
       "  5327,\n",
       "  5329,\n",
       "  5330,\n",
       "  5331,\n",
       "  5333,\n",
       "  5334,\n",
       "  5336,\n",
       "  5337,\n",
       "  5338,\n",
       "  5339,\n",
       "  5340,\n",
       "  5341,\n",
       "  5342,\n",
       "  5343,\n",
       "  5344,\n",
       "  5347,\n",
       "  5348,\n",
       "  5349,\n",
       "  5350,\n",
       "  5351,\n",
       "  5352,\n",
       "  5353,\n",
       "  5354,\n",
       "  5355,\n",
       "  5357,\n",
       "  5358,\n",
       "  5360,\n",
       "  5361,\n",
       "  5362,\n",
       "  5364,\n",
       "  5365,\n",
       "  5366],\n",
       " [5652,\n",
       "  5653,\n",
       "  5654,\n",
       "  5656,\n",
       "  5657,\n",
       "  5658,\n",
       "  5660,\n",
       "  5661,\n",
       "  5663,\n",
       "  5664,\n",
       "  5665,\n",
       "  5666,\n",
       "  5667,\n",
       "  5668,\n",
       "  5669,\n",
       "  5670,\n",
       "  5671,\n",
       "  5674,\n",
       "  5675,\n",
       "  5676,\n",
       "  5677,\n",
       "  5678,\n",
       "  5679,\n",
       "  5680,\n",
       "  5681,\n",
       "  5682,\n",
       "  5684,\n",
       "  5685,\n",
       "  5687,\n",
       "  5688,\n",
       "  5689,\n",
       "  5691,\n",
       "  5692,\n",
       "  5693],\n",
       " [5979,\n",
       "  5980,\n",
       "  5981,\n",
       "  5983,\n",
       "  5984,\n",
       "  5985,\n",
       "  5987,\n",
       "  5988,\n",
       "  5990,\n",
       "  5991,\n",
       "  5992,\n",
       "  5993,\n",
       "  5994,\n",
       "  5995,\n",
       "  5996,\n",
       "  5997,\n",
       "  5998,\n",
       "  6001,\n",
       "  6002,\n",
       "  6003,\n",
       "  6004,\n",
       "  6005,\n",
       "  6006,\n",
       "  6007,\n",
       "  6008,\n",
       "  6009,\n",
       "  6011,\n",
       "  6012,\n",
       "  6014,\n",
       "  6015,\n",
       "  6016,\n",
       "  6018,\n",
       "  6019,\n",
       "  6020],\n",
       " [6306,\n",
       "  6307,\n",
       "  6308,\n",
       "  6310,\n",
       "  6311,\n",
       "  6312,\n",
       "  6314,\n",
       "  6315,\n",
       "  6317,\n",
       "  6318,\n",
       "  6319,\n",
       "  6320,\n",
       "  6321,\n",
       "  6322,\n",
       "  6323,\n",
       "  6324,\n",
       "  6325,\n",
       "  6328,\n",
       "  6329,\n",
       "  6330,\n",
       "  6331,\n",
       "  6332,\n",
       "  6333,\n",
       "  6334,\n",
       "  6335,\n",
       "  6336,\n",
       "  6338,\n",
       "  6339,\n",
       "  6341,\n",
       "  6342,\n",
       "  6343,\n",
       "  6345,\n",
       "  6346,\n",
       "  6347]]"
      ]
     },
     "execution_count": 10,
     "metadata": {},
     "output_type": "execute_result"
    }
   ],
   "source": [
    "bcidx"
   ]
  },
  {
   "cell_type": "code",
   "execution_count": 11,
   "metadata": {},
   "outputs": [
    {
     "data": {
      "text/plain": [
       "(20, 34)"
      ]
     },
     "execution_count": 11,
     "metadata": {},
     "output_type": "execute_result"
    }
   ],
   "source": [
    "np.shape(famdata['BC']['index'])"
   ]
  },
  {
   "cell_type": "markdown",
   "metadata": {
    "hidden": true
   },
   "source": [
    "Some families have devnames keys:"
   ]
  },
  {
   "cell_type": "code",
   "execution_count": 12,
   "metadata": {
    "ExecuteTime": {
     "end_time": "2022-03-21T14:20:20.364453Z",
     "start_time": "2022-03-21T14:20:20.360290Z"
    },
    "hidden": true
   },
   "outputs": [
    {
     "data": {
      "text/plain": [
       "['SI-01M2:DI-BPM',\n",
       " 'SI-01C1:DI-BPM-1',\n",
       " 'SI-01C1:DI-BPM-2',\n",
       " 'SI-01C2:DI-BPM',\n",
       " 'SI-01C3:DI-BPM-1',\n",
       " 'SI-01C3:DI-BPM-2',\n",
       " 'SI-01C4:DI-BPM',\n",
       " 'SI-02M1:DI-BPM',\n",
       " 'SI-02M2:DI-BPM',\n",
       " 'SI-02C1:DI-BPM-1',\n",
       " 'SI-02C1:DI-BPM-2',\n",
       " 'SI-02C2:DI-BPM',\n",
       " 'SI-02C3:DI-BPM-1',\n",
       " 'SI-02C3:DI-BPM-2',\n",
       " 'SI-02C4:DI-BPM',\n",
       " 'SI-03M1:DI-BPM',\n",
       " 'SI-03M2:DI-BPM',\n",
       " 'SI-03C1:DI-BPM-1',\n",
       " 'SI-03C1:DI-BPM-2',\n",
       " 'SI-03C2:DI-BPM',\n",
       " 'SI-03C3:DI-BPM-1',\n",
       " 'SI-03C3:DI-BPM-2',\n",
       " 'SI-03C4:DI-BPM',\n",
       " 'SI-04M1:DI-BPM',\n",
       " 'SI-04M2:DI-BPM',\n",
       " 'SI-04C1:DI-BPM-1',\n",
       " 'SI-04C1:DI-BPM-2',\n",
       " 'SI-04C2:DI-BPM',\n",
       " 'SI-04C3:DI-BPM-1',\n",
       " 'SI-04C3:DI-BPM-2',\n",
       " 'SI-04C4:DI-BPM',\n",
       " 'SI-05M1:DI-BPM',\n",
       " 'SI-05M2:DI-BPM',\n",
       " 'SI-05C1:DI-BPM-1',\n",
       " 'SI-05C1:DI-BPM-2',\n",
       " 'SI-05C2:DI-BPM',\n",
       " 'SI-05C3:DI-BPM-1',\n",
       " 'SI-05C3:DI-BPM-2',\n",
       " 'SI-05C4:DI-BPM',\n",
       " 'SI-06M1:DI-BPM',\n",
       " 'SI-06M2:DI-BPM',\n",
       " 'SI-06C1:DI-BPM-1',\n",
       " 'SI-06C1:DI-BPM-2',\n",
       " 'SI-06C2:DI-BPM',\n",
       " 'SI-06C3:DI-BPM-1',\n",
       " 'SI-06C3:DI-BPM-2',\n",
       " 'SI-06C4:DI-BPM',\n",
       " 'SI-07M1:DI-BPM',\n",
       " 'SI-07M2:DI-BPM',\n",
       " 'SI-07C1:DI-BPM-1',\n",
       " 'SI-07C1:DI-BPM-2',\n",
       " 'SI-07C2:DI-BPM',\n",
       " 'SI-07C3:DI-BPM-1',\n",
       " 'SI-07C3:DI-BPM-2',\n",
       " 'SI-07C4:DI-BPM',\n",
       " 'SI-08M1:DI-BPM',\n",
       " 'SI-08M2:DI-BPM',\n",
       " 'SI-08C1:DI-BPM-1',\n",
       " 'SI-08C1:DI-BPM-2',\n",
       " 'SI-08C2:DI-BPM',\n",
       " 'SI-08C3:DI-BPM-1',\n",
       " 'SI-08C3:DI-BPM-2',\n",
       " 'SI-08C4:DI-BPM',\n",
       " 'SI-09M1:DI-BPM',\n",
       " 'SI-09M2:DI-BPM',\n",
       " 'SI-09C1:DI-BPM-1',\n",
       " 'SI-09C1:DI-BPM-2',\n",
       " 'SI-09C2:DI-BPM',\n",
       " 'SI-09C3:DI-BPM-1',\n",
       " 'SI-09C3:DI-BPM-2',\n",
       " 'SI-09C4:DI-BPM',\n",
       " 'SI-10M1:DI-BPM',\n",
       " 'SI-10M2:DI-BPM',\n",
       " 'SI-10C1:DI-BPM-1',\n",
       " 'SI-10C1:DI-BPM-2',\n",
       " 'SI-10C2:DI-BPM',\n",
       " 'SI-10C3:DI-BPM-1',\n",
       " 'SI-10C3:DI-BPM-2',\n",
       " 'SI-10C4:DI-BPM',\n",
       " 'SI-11M1:DI-BPM',\n",
       " 'SI-11M2:DI-BPM',\n",
       " 'SI-11C1:DI-BPM-1',\n",
       " 'SI-11C1:DI-BPM-2',\n",
       " 'SI-11C2:DI-BPM',\n",
       " 'SI-11C3:DI-BPM-1',\n",
       " 'SI-11C3:DI-BPM-2',\n",
       " 'SI-11C4:DI-BPM',\n",
       " 'SI-12M1:DI-BPM',\n",
       " 'SI-12M2:DI-BPM',\n",
       " 'SI-12C1:DI-BPM-1',\n",
       " 'SI-12C1:DI-BPM-2',\n",
       " 'SI-12C2:DI-BPM',\n",
       " 'SI-12C3:DI-BPM-1',\n",
       " 'SI-12C3:DI-BPM-2',\n",
       " 'SI-12C4:DI-BPM',\n",
       " 'SI-13M1:DI-BPM',\n",
       " 'SI-13M2:DI-BPM',\n",
       " 'SI-13C1:DI-BPM-1',\n",
       " 'SI-13C1:DI-BPM-2',\n",
       " 'SI-13C2:DI-BPM',\n",
       " 'SI-13C3:DI-BPM-1',\n",
       " 'SI-13C3:DI-BPM-2',\n",
       " 'SI-13C4:DI-BPM',\n",
       " 'SI-14M1:DI-BPM',\n",
       " 'SI-14M2:DI-BPM',\n",
       " 'SI-14C1:DI-BPM-1',\n",
       " 'SI-14C1:DI-BPM-2',\n",
       " 'SI-14C2:DI-BPM',\n",
       " 'SI-14C3:DI-BPM-1',\n",
       " 'SI-14C3:DI-BPM-2',\n",
       " 'SI-14C4:DI-BPM',\n",
       " 'SI-15M1:DI-BPM',\n",
       " 'SI-15M2:DI-BPM',\n",
       " 'SI-15C1:DI-BPM-1',\n",
       " 'SI-15C1:DI-BPM-2',\n",
       " 'SI-15C2:DI-BPM',\n",
       " 'SI-15C3:DI-BPM-1',\n",
       " 'SI-15C3:DI-BPM-2',\n",
       " 'SI-15C4:DI-BPM',\n",
       " 'SI-16M1:DI-BPM',\n",
       " 'SI-16M2:DI-BPM',\n",
       " 'SI-16C1:DI-BPM-1',\n",
       " 'SI-16C1:DI-BPM-2',\n",
       " 'SI-16C2:DI-BPM',\n",
       " 'SI-16C3:DI-BPM-1',\n",
       " 'SI-16C3:DI-BPM-2',\n",
       " 'SI-16C4:DI-BPM',\n",
       " 'SI-17M1:DI-BPM',\n",
       " 'SI-17M2:DI-BPM',\n",
       " 'SI-17C1:DI-BPM-1',\n",
       " 'SI-17C1:DI-BPM-2',\n",
       " 'SI-17C2:DI-BPM',\n",
       " 'SI-17C3:DI-BPM-1',\n",
       " 'SI-17C3:DI-BPM-2',\n",
       " 'SI-17C4:DI-BPM',\n",
       " 'SI-18M1:DI-BPM',\n",
       " 'SI-18M2:DI-BPM',\n",
       " 'SI-18C1:DI-BPM-1',\n",
       " 'SI-18C1:DI-BPM-2',\n",
       " 'SI-18C2:DI-BPM',\n",
       " 'SI-18C3:DI-BPM-1',\n",
       " 'SI-18C3:DI-BPM-2',\n",
       " 'SI-18C4:DI-BPM',\n",
       " 'SI-19M1:DI-BPM',\n",
       " 'SI-19M2:DI-BPM',\n",
       " 'SI-19C1:DI-BPM-1',\n",
       " 'SI-19C1:DI-BPM-2',\n",
       " 'SI-19C2:DI-BPM',\n",
       " 'SI-19C3:DI-BPM-1',\n",
       " 'SI-19C3:DI-BPM-2',\n",
       " 'SI-19C4:DI-BPM',\n",
       " 'SI-20M1:DI-BPM',\n",
       " 'SI-20M2:DI-BPM',\n",
       " 'SI-20C1:DI-BPM-1',\n",
       " 'SI-20C1:DI-BPM-2',\n",
       " 'SI-20C2:DI-BPM',\n",
       " 'SI-20C3:DI-BPM-1',\n",
       " 'SI-20C3:DI-BPM-2',\n",
       " 'SI-20C4:DI-BPM',\n",
       " 'SI-01M1:DI-BPM']"
      ]
     },
     "execution_count": 12,
     "metadata": {},
     "output_type": "execute_result"
    }
   ],
   "source": [
    "famdata['BPM']['devnames']"
   ]
  },
  {
   "cell_type": "markdown",
   "metadata": {
    "hidden": true
   },
   "source": [
    "Finding out the families names"
   ]
  },
  {
   "cell_type": "code",
   "execution_count": 13,
   "metadata": {
    "ExecuteTime": {
     "end_time": "2021-10-20T14:29:29.351281Z",
     "start_time": "2021-10-20T14:29:29.241468Z"
    },
    "hidden": true
   },
   "outputs": [
    {
     "data": {
      "text/plain": [
       "['InjDpKckr', 'InjNLKckr', 'PingH', 'PingV']"
      ]
     },
     "execution_count": 13,
     "metadata": {},
     "output_type": "execute_result"
    }
   ],
   "source": [
    "pymodels.si.families.families_pulsed_magnets()"
   ]
  },
  {
   "cell_type": "code",
   "execution_count": 14,
   "metadata": {
    "ExecuteTime": {
     "end_time": "2021-10-20T14:29:29.573015Z",
     "start_time": "2021-10-20T14:29:29.461701Z"
    },
    "hidden": true
   },
   "outputs": [
    {
     "data": {
      "text/plain": [
       "['B1', 'B2', 'BC']"
      ]
     },
     "execution_count": 14,
     "metadata": {},
     "output_type": "execute_result"
    }
   ],
   "source": [
    "pymodels.si.families.families_dipoles()"
   ]
  },
  {
   "cell_type": "code",
   "execution_count": 15,
   "metadata": {
    "ExecuteTime": {
     "end_time": "2021-10-20T14:29:29.711329Z",
     "start_time": "2021-10-20T14:29:29.577289Z"
    },
    "hidden": true
   },
   "outputs": [
    {
     "data": {
      "text/plain": [
       "['QFA',\n",
       " 'QDA',\n",
       " 'QFB',\n",
       " 'QDB1',\n",
       " 'QDB2',\n",
       " 'QFP',\n",
       " 'QDP1',\n",
       " 'QDP2',\n",
       " 'Q1',\n",
       " 'Q2',\n",
       " 'Q3',\n",
       " 'Q4']"
      ]
     },
     "execution_count": 15,
     "metadata": {},
     "output_type": "execute_result"
    }
   ],
   "source": [
    "pymodels.si.families.families_quadrupoles()"
   ]
  },
  {
   "cell_type": "code",
   "execution_count": 16,
   "metadata": {},
   "outputs": [
    {
     "data": {
      "text/plain": [
       "[[15], [1283], [1307], [2575], [2597], [3871], [3896], [5172], [5197], [6474]]"
      ]
     },
     "execution_count": 16,
     "metadata": {},
     "output_type": "execute_result"
    }
   ],
   "source": [
    "famdata['QFA']['index']"
   ]
  },
  {
   "cell_type": "code",
   "execution_count": 17,
   "metadata": {
    "ExecuteTime": {
     "end_time": "2021-10-20T14:29:29.815081Z",
     "start_time": "2021-10-20T14:29:29.712685Z"
    },
    "hidden": true
   },
   "outputs": [
    {
     "data": {
      "text/plain": [
       "['SDA0',\n",
       " 'SDB0',\n",
       " 'SDP0',\n",
       " 'SDA1',\n",
       " 'SDB1',\n",
       " 'SDP1',\n",
       " 'SDA2',\n",
       " 'SDB2',\n",
       " 'SDP2',\n",
       " 'SDA3',\n",
       " 'SDB3',\n",
       " 'SDP3',\n",
       " 'SFA0',\n",
       " 'SFB0',\n",
       " 'SFP0',\n",
       " 'SFA1',\n",
       " 'SFB1',\n",
       " 'SFP1',\n",
       " 'SFA2',\n",
       " 'SFB2',\n",
       " 'SFP2']"
      ]
     },
     "execution_count": 17,
     "metadata": {},
     "output_type": "execute_result"
    }
   ],
   "source": [
    "pymodels.si.families.families_sextupoles()"
   ]
  },
  {
   "cell_type": "code",
   "execution_count": 18,
   "metadata": {
    "ExecuteTime": {
     "end_time": "2022-03-21T14:01:57.450707Z",
     "start_time": "2022-03-21T14:01:57.445585Z"
    },
    "hidden": true
   },
   "outputs": [
    {
     "data": {
      "text/plain": [
       "['BPM',\n",
       " 'DCCT',\n",
       " 'ScrapH',\n",
       " 'ScrapV',\n",
       " 'GSL15',\n",
       " 'GSL07',\n",
       " 'GBPM',\n",
       " 'BbBPkup',\n",
       " 'BbBKckrH',\n",
       " 'BbBKckrV',\n",
       " 'BbBKckrL',\n",
       " 'TuneShkrH',\n",
       " 'TuneShkrV',\n",
       " 'TunePkup']"
      ]
     },
     "execution_count": 18,
     "metadata": {},
     "output_type": "execute_result"
    }
   ],
   "source": [
    "# Diagnostic families\n",
    "pymodels.si.families.families_di()"
   ]
  },
  {
   "cell_type": "markdown",
   "metadata": {
    "hidden": true
   },
   "source": [
    "Extracting PVs information"
   ]
  },
  {
   "cell_type": "code",
   "execution_count": 19,
   "metadata": {
    "ExecuteTime": {
     "end_time": "2022-03-21T14:05:17.695392Z",
     "start_time": "2022-03-21T14:05:17.189516Z"
    },
    "hidden": true
   },
   "outputs": [],
   "source": [
    "from siriuspy.epics import PV"
   ]
  },
  {
   "cell_type": "code",
   "execution_count": 20,
   "metadata": {
    "ExecuteTime": {
     "end_time": "2022-03-21T14:07:24.018855Z",
     "start_time": "2022-03-21T14:07:24.016491Z"
    },
    "hidden": true
   },
   "outputs": [],
   "source": [
    "# Instantiating the first BPM PV whose measures the x position of the beam.\n",
    "bpm1 = PV(famdata['BPM']['devnames'][3]+':PosY-Mon')"
   ]
  },
  {
   "cell_type": "code",
   "execution_count": 21,
   "metadata": {
    "ExecuteTime": {
     "end_time": "2022-03-21T14:05:41.260381Z",
     "start_time": "2022-03-21T14:05:41.254900Z"
    },
    "hidden": true
   },
   "outputs": [
    {
     "name": "stderr",
     "output_type": "stream",
     "text": [
      "**** The executable \"caRepeater\" couldn't be located\n",
      "**** because of errno = \"No such file or directory\".\n",
      "**** You may need to modify your PATH environment variable.\n",
      "**** Unable to start \"CA Repeater\" process.\n"
     ]
    },
    {
     "data": {
      "text/plain": [
       "53423.19254928864"
      ]
     },
     "execution_count": 21,
     "metadata": {},
     "output_type": "execute_result"
    }
   ],
   "source": [
    "bpm1.get()"
   ]
  },
  {
   "cell_type": "markdown",
   "metadata": {
    "heading_collapsed": true
   },
   "source": [
    "### Elements Types\n",
    "markers, drifts, dipoles, quadrupoles, sextupoles, cavity"
   ]
  },
  {
   "cell_type": "code",
   "execution_count": 22,
   "metadata": {
    "ExecuteTime": {
     "end_time": "2021-10-20T14:29:30.045387Z",
     "start_time": "2021-10-20T14:29:29.929690Z"
    },
    "hidden": true
   },
   "outputs": [
    {
     "name": "stdout",
     "output_type": "stream",
     "text": [
      "fam_name   : start \n",
      "pass_method: identity_pass \n",
      "hmin       : -0.03 m\n",
      "hmax       : 0.012 m\n",
      "vmin       : -0.012 m\n",
      "vmax       : 0.012 m\n"
     ]
    }
   ],
   "source": [
    "# Marker\n",
    "print(model[0])"
   ]
  },
  {
   "cell_type": "code",
   "execution_count": 23,
   "metadata": {
    "ExecuteTime": {
     "end_time": "2021-10-20T14:29:30.127074Z",
     "start_time": "2021-10-20T14:29:30.047623Z"
    },
    "hidden": true,
    "scrolled": true
   },
   "outputs": [
    {
     "name": "stdout",
     "output_type": "stream",
     "text": [
      "fam_name   : lkkp \n",
      "pass_method: drift_pass \n",
      "length     : 1.9143900000000054 m\n",
      "hmin       : -0.03 m\n",
      "hmax       : 0.012 m\n",
      "vmin       : -0.012 m\n",
      "vmax       : 0.012 m\n"
     ]
    }
   ],
   "source": [
    "# Drift\n",
    "print(model[2])"
   ]
  },
  {
   "cell_type": "code",
   "execution_count": 24,
   "metadata": {
    "ExecuteTime": {
     "end_time": "2021-10-20T14:29:30.232406Z",
     "start_time": "2021-10-20T14:29:30.128548Z"
    },
    "hidden": true
   },
   "outputs": [
    {
     "data": {
      "text/plain": [
       "(20, 34)"
      ]
     },
     "execution_count": 24,
     "metadata": {},
     "output_type": "execute_result"
    }
   ],
   "source": [
    "# 20 BC dipoles divided in 34 segments\n",
    "bc_idx = famdata['BC']['index']\n",
    "np.array(bc_idx).shape"
   ]
  },
  {
   "cell_type": "code",
   "execution_count": 25,
   "metadata": {
    "ExecuteTime": {
     "end_time": "2021-10-20T14:29:30.341015Z",
     "start_time": "2021-10-20T14:29:30.236855Z"
    },
    "hidden": true
   },
   "outputs": [
    {
     "name": "stdout",
     "output_type": "stream",
     "text": [
      "fam_name   : BC \n",
      "pass_method: bnd_mpole_symplectic4_pass \n",
      "length     : 0.014 m\n",
      "angle      : 0.0005827654372409067 rad\n",
      "polynom_b  : [ 0.0000e+00 -4.4684e-01 -1.8750e+00  2.2077e+01 -5.5912e+03 -1.6748e+05\n",
      "  1.0327e+08  9.3221e+08 -8.6332e+11  0.0000e+00  2.7550e+15] 1/m¹, 1/m², 1/m³, ...\n",
      "hmin       : -0.012 m\n",
      "hmax       : 0.012 m\n",
      "vmin       : -0.012 m\n",
      "vmax       : 0.012 m\n"
     ]
    }
   ],
   "source": [
    "bc_elem = model[bc_idx[0][2]]\n",
    "print(bc_elem) \n",
    "# Pay attention at the angle property:"
   ]
  },
  {
   "cell_type": "code",
   "execution_count": 26,
   "metadata": {
    "ExecuteTime": {
     "end_time": "2022-03-21T14:22:40.553224Z",
     "start_time": "2022-03-21T14:22:40.550384Z"
    },
    "hidden": true
   },
   "outputs": [
    {
     "data": {
      "text/plain": [
       "(40, 1)"
      ]
     },
     "execution_count": 26,
     "metadata": {},
     "output_type": "execute_result"
    }
   ],
   "source": [
    "# quadrupole\n",
    "q1_idx = famdata['Q1']['index']\n",
    "np.array(q1_idx).shape"
   ]
  },
  {
   "cell_type": "code",
   "execution_count": 27,
   "metadata": {},
   "outputs": [
    {
     "name": "stdout",
     "output_type": "stream",
     "text": [
      "fam_name   : Q1 \n",
      "pass_method: str_mpole_symplectic4_pass \n",
      "length     : 0.2 m\n",
      "nr_steps   : 14 \n",
      "polynom_b  : [ 0.00000000e+00  2.81837060e+00  0.00000000e+00  0.00000000e+00\n",
      "  0.00000000e+00 -5.00052674e+04  0.00000000e+00  0.00000000e+00\n",
      "  0.00000000e+00  1.08810511e+13  0.00000000e+00  0.00000000e+00\n",
      "  0.00000000e+00 -2.06323755e+20] 1/m¹, 1/m², 1/m³, ...\n",
      "hmin       : -0.012 m\n",
      "hmax       : 0.012 m\n",
      "vmin       : -0.012 m\n",
      "vmax       : 0.012 m\n"
     ]
    }
   ],
   "source": [
    "print(model[q1_idx[0][0]])"
   ]
  },
  {
   "cell_type": "code",
   "execution_count": 28,
   "metadata": {
    "ExecuteTime": {
     "end_time": "2022-03-21T14:22:47.253553Z",
     "start_time": "2022-03-21T14:22:47.250751Z"
    },
    "hidden": true
   },
   "outputs": [
    {
     "data": {
      "text/plain": [
       "(100, 1)"
      ]
     },
     "execution_count": 28,
     "metadata": {},
     "output_type": "execute_result"
    }
   ],
   "source": [
    "# quadrupole skew\n",
    "qs_idx = famdata['QS']['index']\n",
    "np.array(qs_idx).shape"
   ]
  },
  {
   "cell_type": "code",
   "execution_count": 29,
   "metadata": {
    "ExecuteTime": {
     "end_time": "2022-03-21T14:25:15.632852Z",
     "start_time": "2022-03-21T14:25:15.629748Z"
    },
    "hidden": true
   },
   "outputs": [
    {
     "name": "stdout",
     "output_type": "stream",
     "text": [
      "fam_name   : SFA0 \n",
      "pass_method: str_mpole_symplectic4_pass \n",
      "length     : 0.15 m\n",
      "nr_steps   : 10 \n",
      "polynom_b  : [ 0.      0.     52.5696] 1/m¹, 1/m², 1/m³, ...\n",
      "hmin       : -0.012 m\n",
      "hmax       : 0.012 m\n",
      "vmin       : -0.012 m\n",
      "vmax       : 0.012 m\n"
     ]
    }
   ],
   "source": [
    "qs_elem = model[qs_idx[0][0]]\n",
    "print(qs_elem)"
   ]
  },
  {
   "cell_type": "code",
   "execution_count": 30,
   "metadata": {
    "ExecuteTime": {
     "end_time": "2021-10-04T15:20:42.067778Z",
     "start_time": "2021-10-04T15:20:42.002815Z"
    },
    "hidden": true
   },
   "outputs": [
    {
     "name": "stdout",
     "output_type": "stream",
     "text": [
      "fam_name   : Q1 \n",
      "pass_method: str_mpole_symplectic4_pass \n",
      "length     : 0.2 m\n",
      "nr_steps   : 14 \n",
      "polynom_b  : [ 0.00000000e+00  2.81837060e+00  0.00000000e+00  0.00000000e+00\n",
      "  0.00000000e+00 -5.00052674e+04  0.00000000e+00  0.00000000e+00\n",
      "  0.00000000e+00  1.08810511e+13  0.00000000e+00  0.00000000e+00\n",
      "  0.00000000e+00 -2.06323755e+20] 1/m¹, 1/m², 1/m³, ...\n",
      "hmin       : -0.012 m\n",
      "hmax       : 0.012 m\n",
      "vmin       : -0.012 m\n",
      "vmax       : 0.012 m\n"
     ]
    }
   ],
   "source": [
    "q1_elem = model[q1_idx[0][0]]\n",
    "print(q1_elem)"
   ]
  },
  {
   "cell_type": "markdown",
   "metadata": {
    "ExecuteTime": {
     "end_time": "2022-03-21T14:29:21.303504Z",
     "start_time": "2022-03-21T14:29:21.294678Z"
    },
    "hidden": true
   },
   "source": [
    "Extracting the KL term of an element"
   ]
  },
  {
   "cell_type": "code",
   "execution_count": 31,
   "metadata": {
    "ExecuteTime": {
     "end_time": "2021-10-04T15:20:42.125755Z",
     "start_time": "2021-10-04T15:20:42.069424Z"
    },
    "hidden": true
   },
   "outputs": [
    {
     "data": {
      "text/plain": [
       "0.5636741202576"
      ]
     },
     "execution_count": 31,
     "metadata": {},
     "output_type": "execute_result"
    }
   ],
   "source": [
    "q1_elem.KL"
   ]
  },
  {
   "cell_type": "code",
   "execution_count": 32,
   "metadata": {},
   "outputs": [
    {
     "data": {
      "text/plain": [
       "0.5636741202576"
      ]
     },
     "execution_count": 32,
     "metadata": {},
     "output_type": "execute_result"
    }
   ],
   "source": [
    "q1_elem.polynom_b[1]*q1_elem.length"
   ]
  },
  {
   "cell_type": "code",
   "execution_count": 33,
   "metadata": {
    "ExecuteTime": {
     "end_time": "2021-10-04T15:20:42.184577Z",
     "start_time": "2021-10-04T15:20:42.127144Z"
    },
    "hidden": true
   },
   "outputs": [
    {
     "data": {
      "text/plain": [
       "(10, 1)"
      ]
     },
     "execution_count": 33,
     "metadata": {},
     "output_type": "execute_result"
    }
   ],
   "source": [
    "# sextupole\n",
    "sfa0_idx = famdata['SFA0']['index']\n",
    "np.array(sfa0_idx).shape"
   ]
  },
  {
   "cell_type": "code",
   "execution_count": 34,
   "metadata": {
    "ExecuteTime": {
     "end_time": "2021-10-04T15:20:42.249616Z",
     "start_time": "2021-10-04T15:20:42.186250Z"
    },
    "hidden": true,
    "scrolled": false
   },
   "outputs": [
    {
     "name": "stdout",
     "output_type": "stream",
     "text": [
      "fam_name   : SFA0 \n",
      "pass_method: str_mpole_symplectic4_pass \n",
      "length     : 0.15 m\n",
      "nr_steps   : 10 \n",
      "polynom_b  : [ 0.      0.     52.5696] 1/m¹, 1/m², 1/m³, ...\n",
      "hmin       : -0.012 m\n",
      "hmax       : 0.012 m\n",
      "vmin       : -0.012 m\n",
      "vmax       : 0.012 m\n"
     ]
    }
   ],
   "source": [
    "sfa0_elem = model[sfa0_idx[0][0]]\n",
    "print(sfa0_elem)"
   ]
  },
  {
   "cell_type": "markdown",
   "metadata": {
    "hidden": true
   },
   "source": [
    "Extracting the SL term of an element"
   ]
  },
  {
   "cell_type": "code",
   "execution_count": 35,
   "metadata": {
    "ExecuteTime": {
     "end_time": "2021-10-04T15:20:42.332319Z",
     "start_time": "2021-10-04T15:20:42.255113Z"
    },
    "hidden": true
   },
   "outputs": [
    {
     "data": {
      "text/plain": [
       "(7.88544, 7.88544)"
      ]
     },
     "execution_count": 35,
     "metadata": {},
     "output_type": "execute_result"
    }
   ],
   "source": [
    "sfa0_elem.SL, sfa0_elem.polynom_b[2]*sfa0_elem.length"
   ]
  },
  {
   "cell_type": "code",
   "execution_count": 36,
   "metadata": {
    "ExecuteTime": {
     "end_time": "2021-10-04T15:20:42.402294Z",
     "start_time": "2021-10-04T15:20:42.338151Z"
    },
    "hidden": true
   },
   "outputs": [
    {
     "name": "stdout",
     "output_type": "stream",
     "text": [
      "fam_name   : SRFCav \n",
      "pass_method: cavity_pass \n",
      "frequency  : 499663831.6294428 Hz\n",
      "voltage    : 3000000.0 V\n",
      "hmin       : -0.012 m\n",
      "hmax       : 0.012 m\n",
      "vmin       : -0.012 m\n",
      "vmax       : 0.012 m\n"
     ]
    }
   ],
   "source": [
    "cav_idx = famdata['SRFCav']['index']\n",
    "cav_elem = model[cav_idx[0][0]]\n",
    "print(cav_elem)"
   ]
  },
  {
   "cell_type": "markdown",
   "metadata": {},
   "source": [
    "# Pyaccel\n",
    "\n",
    "Python module for beam dynamics tracking and optics calculations\n",
    "\n",
    "accelerator, elements, lattice, optics, tracking"
   ]
  },
  {
   "cell_type": "code",
   "execution_count": 37,
   "metadata": {
    "ExecuteTime": {
     "end_time": "2022-03-21T14:40:55.313606Z",
     "start_time": "2022-03-21T14:40:55.309452Z"
    }
   },
   "outputs": [],
   "source": [
    "import pyaccel"
   ]
  },
  {
   "cell_type": "markdown",
   "metadata": {
    "heading_collapsed": true
   },
   "source": [
    "### Model manipulation"
   ]
  },
  {
   "cell_type": "markdown",
   "metadata": {
    "hidden": true
   },
   "source": [
    "Getting the $s$ coordinate of all elements in the lattice:"
   ]
  },
  {
   "cell_type": "code",
   "execution_count": 38,
   "metadata": {
    "ExecuteTime": {
     "end_time": "2021-10-04T15:20:42.668163Z",
     "start_time": "2021-10-04T15:20:42.478478Z"
    },
    "hidden": true
   },
   "outputs": [
    {
     "data": {
      "text/plain": [
       "array([12.43829, 12.47329, 12.48929, 12.50329, 12.51529, 12.67529,\n",
       "       12.83529, 12.86729, 12.89929, 12.90929, 12.91929, 12.92929,\n",
       "       12.93929, 12.94429, 12.94929, 12.95429, 12.95829, 12.95929,\n",
       "       12.96029, 12.96429, 12.96929, 12.97429, 12.97929, 12.98929,\n",
       "       12.99929, 13.00929, 13.01929, 13.05129, 13.08329, 13.24329,\n",
       "       13.40329, 13.41529, 13.42929, 13.44529])"
      ]
     },
     "execution_count": 38,
     "metadata": {},
     "output_type": "execute_result"
    }
   ],
   "source": [
    "spos = pyaccel.lattice.find_spos(model)\n",
    "spos[bc_idx[0]]"
   ]
  },
  {
   "cell_type": "markdown",
   "metadata": {
    "hidden": true
   },
   "source": [
    "Finding indexes of an family present in the model."
   ]
  },
  {
   "cell_type": "code",
   "execution_count": 39,
   "metadata": {
    "ExecuteTime": {
     "end_time": "2021-10-04T15:20:42.730949Z",
     "start_time": "2021-10-04T15:20:42.669159Z"
    },
    "hidden": true
   },
   "outputs": [
    {
     "data": {
      "text/plain": [
       "([650], [[650]])"
      ]
     },
     "execution_count": 39,
     "metadata": {},
     "output_type": "execute_result"
    }
   ],
   "source": [
    "cav_idx = pyaccel.lattice.find_indices(lattice=model, attribute_name='fam_name', value='SRFCav')\n",
    "cav_idx, famdata['SRFCav']['index']"
   ]
  },
  {
   "cell_type": "markdown",
   "metadata": {
    "hidden": true
   },
   "source": [
    "Getting an attribute"
   ]
  },
  {
   "cell_type": "code",
   "execution_count": 40,
   "metadata": {
    "ExecuteTime": {
     "end_time": "2021-10-04T15:20:42.804025Z",
     "start_time": "2021-10-04T15:20:42.732091Z"
    },
    "hidden": true
   },
   "outputs": [
    {
     "data": {
      "text/plain": [
       "(499663831.6294428, 499663831.6294428)"
      ]
     },
     "execution_count": 40,
     "metadata": {},
     "output_type": "execute_result"
    }
   ],
   "source": [
    "rf_freq = pyaccel.lattice.get_attribute(model, 'frequency', indices=cav_idx)\n",
    "rf_freq, model[cav_idx[0]].frequency"
   ]
  },
  {
   "cell_type": "markdown",
   "metadata": {
    "hidden": true
   },
   "source": [
    "Setting an attribute"
   ]
  },
  {
   "cell_type": "code",
   "execution_count": 41,
   "metadata": {
    "ExecuteTime": {
     "end_time": "2021-10-04T15:20:42.889788Z",
     "start_time": "2021-10-04T15:20:42.806031Z"
    },
    "hidden": true
   },
   "outputs": [
    {
     "data": {
      "text/plain": [
       "499663931.6294428"
      ]
     },
     "execution_count": 41,
     "metadata": {},
     "output_type": "execute_result"
    }
   ],
   "source": [
    "pyaccel.lattice.set_attribute(model, 'frequency', indices=cav_idx, values=rf_freq+100)\n",
    "model[cav_idx[0]].frequency"
   ]
  },
  {
   "cell_type": "markdown",
   "metadata": {
    "hidden": true
   },
   "source": [
    "Setting and getting attributes using python property short command: "
   ]
  },
  {
   "cell_type": "code",
   "execution_count": 42,
   "metadata": {
    "ExecuteTime": {
     "end_time": "2021-10-04T15:20:42.963793Z",
     "start_time": "2021-10-04T15:20:42.895046Z"
    },
    "hidden": true
   },
   "outputs": [
    {
     "data": {
      "text/plain": [
       "499663831.6294428"
      ]
     },
     "execution_count": 42,
     "metadata": {},
     "output_type": "execute_result"
    }
   ],
   "source": [
    "model[cav_idx[0]].frequency = rf_freq\n",
    "model[cav_idx[0]].frequency"
   ]
  },
  {
   "cell_type": "markdown",
   "metadata": {},
   "source": [
    "Change all quadrupoles forces"
   ]
  },
  {
   "cell_type": "code",
   "execution_count": 43,
   "metadata": {},
   "outputs": [],
   "source": [
    "# default_KL = model[q1_idx[0][0]].KL"
   ]
  },
  {
   "cell_type": "code",
   "execution_count": 44,
   "metadata": {},
   "outputs": [],
   "source": [
    "# pyaccel.lattice.set_attribute(model, 'KL', indices=q1_idx, values=1.5 * default_KL)"
   ]
  },
  {
   "cell_type": "markdown",
   "metadata": {
    "ExecuteTime": {
     "end_time": "2021-09-16T17:46:25.058097Z",
     "start_time": "2021-09-16T17:46:25.052544Z"
    },
    "heading_collapsed": true
   },
   "source": [
    "### Optics functions"
   ]
  },
  {
   "cell_type": "code",
   "execution_count": 45,
   "metadata": {
    "ExecuteTime": {
     "end_time": "2021-10-08T21:33:30.287760Z",
     "start_time": "2021-10-08T21:33:29.934542Z"
    },
    "hidden": true
   },
   "outputs": [],
   "source": [
    "model = pyaccel.lattice.refine_lattice(model)\n",
    "twiss, *_ = pyaccel.optics.calc_twiss(model)\n",
    "\n",
    "## For coupled motion, you can use the Edwards-Teng functions:\n",
    "#edteng,*_ = pyaccel.optics.calc_edwards_teng(model)  "
   ]
  },
  {
   "cell_type": "code",
   "execution_count": 46,
   "metadata": {
    "ExecuteTime": {
     "end_time": "2021-10-08T21:33:33.681005Z",
     "start_time": "2021-10-08T21:33:33.678376Z"
    },
    "hidden": true
   },
   "outputs": [],
   "source": [
    "betax, betay = twiss.betax, twiss.betay  # Beta functions\n",
    "etax, etay = twiss.etax, twiss.etay      # Dispersion functions\n",
    "mux, muy = twiss.mux, twiss.muy          # Phase advance\n",
    "spos = twiss.spos                        # s coordinate"
   ]
  },
  {
   "cell_type": "code",
   "execution_count": 47,
   "metadata": {
    "ExecuteTime": {
     "end_time": "2021-10-04T15:20:45.643930Z",
     "start_time": "2021-10-04T15:20:43.501224Z"
    },
    "hidden": true
   },
   "outputs": [
    {
     "name": "stderr",
     "output_type": "stream",
     "text": [
      "CA client library is unable to contact CA repeater after 50 tries.\n",
      "Silence this message by starting a CA repeater daemon\n",
      "or by calling ca_pend_event() and or ca_poll() more often.\n"
     ]
    }
   ],
   "source": [
    "plt.figure()\n",
    "plt.plot(spos, betax, label=r'$\\beta_x$')\n",
    "plt.plot(spos, betay, label=r'$\\beta_y$')\n",
    "plt.xlabel('s [m]')\n",
    "plt.ylabel(r'$\\beta$ [m]')\n",
    "plt.title('Beta functions')\n",
    "plt.xlim([0, model.length/5])\n",
    "plt.ylim([-5, 30])\n",
    "plt.legend()\n",
    "pyaccel.graphics.draw_lattice(model, offset=-3, height=3, gca=True)\n",
    "plt.tight_layout()\n",
    "plt.show()"
   ]
  },
  {
   "cell_type": "code",
   "execution_count": 49,
   "metadata": {
    "ExecuteTime": {
     "end_time": "2021-10-04T15:20:47.196173Z",
     "start_time": "2021-10-04T15:20:45.645214Z"
    },
    "hidden": true
   },
   "outputs": [],
   "source": [
    "plt.figure()\n",
    "plt.plot(spos, etax*100, label=r'$\\eta_x$', color='C2')\n",
    "plt.plot(spos, etay*100, label=r'$\\eta_y$', color='C3')\n",
    "plt.xlabel('s [m]')\n",
    "plt.ylabel(r'$\\eta$ [cm]')\n",
    "plt.title('Dispersion functions')\n",
    "plt.xlim([0, model.length/20])\n",
    "plt.ylim([-3, 9])\n",
    "plt.legend()\n",
    "pyaccel.graphics.draw_lattice(model, offset=-1.2, height=1.0, gca=True)\n",
    "plt.tight_layout()\n",
    "plt.show()"
   ]
  },
  {
   "cell_type": "code",
   "execution_count": 50,
   "metadata": {
    "ExecuteTime": {
     "end_time": "2021-10-04T15:20:47.199678Z",
     "start_time": "2021-10-04T15:20:47.197223Z"
    },
    "hidden": true
   },
   "outputs": [
    {
     "data": {
      "text/plain": [
       "(49.09619860401948, 14.15196574830401)"
      ]
     },
     "execution_count": 50,
     "metadata": {},
     "output_type": "execute_result"
    }
   ],
   "source": [
    "# Tunes\n",
    "mux[-1]/2/np.pi, muy[-1]/2/np.pi"
   ]
  },
  {
   "cell_type": "code",
   "execution_count": null,
   "metadata": {
    "ExecuteTime": {
     "end_time": "2021-10-04T15:20:47.597832Z",
     "start_time": "2021-10-04T15:20:47.200753Z"
    },
    "hidden": true
   },
   "outputs": [],
   "source": [
    "# Chromaticities\n",
    "pyaccel.optics.get_chromaticities(model)"
   ]
  },
  {
   "cell_type": "markdown",
   "metadata": {},
   "source": [
    "Ed teng examples"
   ]
  },
  {
   "cell_type": "code",
   "execution_count": 51,
   "metadata": {},
   "outputs": [],
   "source": [
    "edteng,*_ = pyaccel.optics.calc_edwards_teng(model)"
   ]
  },
  {
   "cell_type": "code",
   "execution_count": 60,
   "metadata": {},
   "outputs": [],
   "source": [
    "C, emit_ratio = pyaccel.optics.estimate_coupling_parameters(edteng)"
   ]
  },
  {
   "cell_type": "code",
   "execution_count": 61,
   "metadata": {},
   "outputs": [
    {
     "data": {
      "text/plain": [
       "0.0"
      ]
     },
     "execution_count": 61,
     "metadata": {},
     "output_type": "execute_result"
    }
   ],
   "source": [
    "C"
   ]
  },
  {
   "cell_type": "markdown",
   "metadata": {
    "heading_collapsed": true
   },
   "source": [
    "### Equilibrium Parameters"
   ]
  },
  {
   "cell_type": "code",
   "execution_count": 62,
   "metadata": {
    "ExecuteTime": {
     "end_time": "2021-10-04T15:20:48.745006Z",
     "start_time": "2021-10-04T15:20:47.598898Z"
    },
    "hidden": true
   },
   "outputs": [],
   "source": [
    "# eqparam = pyaccel.optics.EquilibriumParametersIntegrals(model)\n",
    "eqparam = pyaccel.optics.EqParamsFromBeamEnvelope(model)"
   ]
  },
  {
   "cell_type": "code",
   "execution_count": 63,
   "metadata": {
    "ExecuteTime": {
     "end_time": "2021-10-04T15:20:49.389521Z",
     "start_time": "2021-10-04T15:20:48.746700Z"
    },
    "hidden": true
   },
   "outputs": [
    {
     "name": "stdout",
     "output_type": "stream",
     "text": [
      "\n",
      "Energy [GeV]                    : 3\n",
      "Energy Deviation [%]            : 0\n",
      "J1, J2, J3                      : 1.299, 1, 1.701\n",
      "tau1, tau2, tau3 [ms]           : 16.81, 21.85, 12.85\n",
      "alpha1, alpha2, alpha3 [Hz]     : 59.48, 45.77, 77.84\n",
      "tune1, tune2, tune3 [Hz]        : 0.09621, 0.152, 0.004713\n",
      "momentum compaction x 1e4       : 1.636\n",
      "energy loss [keV]               : 474.9\n",
      "overvoltage                     : 6.317\n",
      "sync phase [°]                  : 170.9\n",
      "mode 1 emittance [nm.rad]       : 0.2493\n",
      "mode 2 emittance [pm.rad]       : -1.597e-25\n",
      "natural espread [%]             : 0.08511\n",
      "bunch length [mm]               : 2.437\n",
      "RF energy accep. [%]            : 5.866\n"
     ]
    }
   ],
   "source": [
    "print(eqparam)"
   ]
  },
  {
   "cell_type": "code",
   "execution_count": 66,
   "metadata": {
    "ExecuteTime": {
     "end_time": "2021-10-04T15:20:50.894154Z",
     "start_time": "2021-10-04T15:20:49.390722Z"
    },
    "hidden": true
   },
   "outputs": [
    {
     "data": {
      "text/plain": [
       "(0.00016360394108483122, 0.00016357578837438425)"
      ]
     },
     "execution_count": 66,
     "metadata": {},
     "output_type": "execute_result"
    }
   ],
   "source": [
    "# Momentum Compaction Factor\n",
    "eqparam.alpha, pyaccel.optics.get_mcf(model)"
   ]
  },
  {
   "cell_type": "code",
   "execution_count": 71,
   "metadata": {
    "ExecuteTime": {
     "end_time": "2021-10-04T15:20:50.897554Z",
     "start_time": "2021-10-04T15:20:50.895195Z"
    },
    "hidden": true
   },
   "outputs": [
    {
     "data": {
      "text/plain": [
       "(2.492602329687084e-10, -1.5974625782322486e-37, 2.07423180281844e-06)"
      ]
     },
     "execution_count": 71,
     "metadata": {},
     "output_type": "execute_result"
    }
   ],
   "source": [
    "# Emittances\n",
    "eqparam.emit1, eqparam.emit2, eqparam.emit3"
   ]
  },
  {
   "cell_type": "code",
   "execution_count": 69,
   "metadata": {
    "ExecuteTime": {
     "end_time": "2021-10-04T15:20:50.989487Z",
     "start_time": "2021-10-04T15:20:50.898529Z"
    },
    "hidden": true
   },
   "outputs": [
    {
     "data": {
      "text/plain": [
       "(0.0008511127219768329, 0.002437228179477336)"
      ]
     },
     "execution_count": 69,
     "metadata": {},
     "output_type": "execute_result"
    }
   ],
   "source": [
    "# Energy spread, Bunch length\n",
    "eqparam.espread0, eqparam.bunlen"
   ]
  },
  {
   "cell_type": "code",
   "execution_count": 74,
   "metadata": {
    "ExecuteTime": {
     "end_time": "2021-10-04T15:20:51.052709Z",
     "start_time": "2021-10-04T15:20:50.996344Z"
    },
    "hidden": true
   },
   "outputs": [
    {
     "data": {
      "text/plain": [
       "(0.016813266805820043, 0.02184711170377784, 0.012846684925709529)"
      ]
     },
     "execution_count": 74,
     "metadata": {},
     "output_type": "execute_result"
    }
   ],
   "source": [
    "# Damping times\n",
    "eqparam.tau1, eqparam.tau2, eqparam.tau3"
   ]
  },
  {
   "cell_type": "markdown",
   "metadata": {
    "ExecuteTime": {
     "end_time": "2021-09-16T18:07:28.331922Z",
     "start_time": "2021-09-16T18:07:28.327629Z"
    },
    "heading_collapsed": true
   },
   "source": [
    "### One-turn matrix"
   ]
  },
  {
   "cell_type": "code",
   "execution_count": 75,
   "metadata": {
    "ExecuteTime": {
     "end_time": "2021-10-04T15:21:25.638702Z",
     "start_time": "2021-10-04T15:21:25.501710Z"
    },
    "hidden": true
   },
   "outputs": [],
   "source": [
    "m1turn = pyaccel.tracking.find_m44(model)"
   ]
  },
  {
   "cell_type": "code",
   "execution_count": 77,
   "metadata": {
    "ExecuteTime": {
     "end_time": "2021-10-04T15:21:25.715433Z",
     "start_time": "2021-10-04T15:21:25.639884Z"
    },
    "hidden": true
   },
   "outputs": [
    {
     "data": {
      "text/plain": [
       "0.9999999999999135"
      ]
     },
     "execution_count": 77,
     "metadata": {},
     "output_type": "execute_result"
    }
   ],
   "source": [
    "np.linalg.det(m1turn)"
   ]
  },
  {
   "cell_type": "markdown",
   "metadata": {
    "heading_collapsed": true
   },
   "source": [
    "### Closed orbit\n",
    "\n",
    "$r = [x, x', y, y', \\delta, z]^T$\n",
    "\n",
    "idx = [0, 1, 2, 3, 4, 5]"
   ]
  },
  {
   "cell_type": "code",
   "execution_count": 78,
   "metadata": {
    "ExecuteTime": {
     "end_time": "2021-10-04T15:21:26.226923Z",
     "start_time": "2021-10-04T15:21:25.890536Z"
    },
    "hidden": true
   },
   "outputs": [],
   "source": [
    "model = pymodels.si.create_accelerator()\n",
    "model.cavity_on = True"
   ]
  },
  {
   "cell_type": "code",
   "execution_count": 79,
   "metadata": {
    "ExecuteTime": {
     "end_time": "2021-10-04T15:21:26.275502Z",
     "start_time": "2021-10-04T15:21:26.227942Z"
    },
    "hidden": true
   },
   "outputs": [
    {
     "data": {
      "text/plain": [
       "(6, 6490)"
      ]
     },
     "execution_count": 79,
     "metadata": {},
     "output_type": "execute_result"
    }
   ],
   "source": [
    "cod = pyaccel.tracking.find_orbit6(model, indices='open')\n",
    "cod.shape"
   ]
  },
  {
   "cell_type": "code",
   "execution_count": 81,
   "metadata": {
    "ExecuteTime": {
     "end_time": "2021-10-04T15:21:26.566515Z",
     "start_time": "2021-10-04T15:21:26.276546Z"
    },
    "hidden": true
   },
   "outputs": [],
   "source": [
    "plt.figure()\n",
    "spos = pyaccel.lattice.find_spos(model)\n",
    "plt.plot(spos, cod[0, :]*1e3, label=r'$x$')\n",
    "plt.plot(spos, cod[2, :]*1e3, label=r'$y$')\n",
    "plt.xlabel('s [m]')\n",
    "plt.ylabel(r'Closed orbit [mm]')\n",
    "plt.legend()\n",
    "plt.tight_layout()\n",
    "plt.show()"
   ]
  },
  {
   "cell_type": "code",
   "execution_count": 83,
   "metadata": {
    "ExecuteTime": {
     "end_time": "2021-10-04T15:21:26.816432Z",
     "start_time": "2021-10-04T15:21:26.567526Z"
    },
    "hidden": true
   },
   "outputs": [],
   "source": [
    "chidx = famdata['CH']['index'][0][0]\n",
    "model[chidx].hkick_polynom = 10e-6 # [rad]\n",
    "codx = pyaccel.tracking.find_orbit6(model, indices='open')\n",
    "model[chidx].hkick_polynom = 0 # [rad]\n",
    "\n",
    "cvidx = famdata['CV']['index'][0][0]\n",
    "model[cvidx].vkick_polynom = 10e-6 # [rad]\n",
    "cody = pyaccel.tracking.find_orbit6(model, indices='open')\n",
    "model[cvidx].vkick_polynom = 0 # [rad]\n",
    "\n",
    "cavidx = famdata['SRFCav']['index'][0][0]\n",
    "model[cavidx].frequency += 100 # [Hz]\n",
    "codrf = pyaccel.tracking.find_orbit6(model, indices='open')\n",
    "model[cavidx].frequency -= 100 # [Hz]\n",
    "\n",
    "bpmidx = famdata['BPM']['index']\n",
    "bpmidx = np.array(bpmidx).ravel()"
   ]
  },
  {
   "cell_type": "code",
   "execution_count": 89,
   "metadata": {
    "ExecuteTime": {
     "end_time": "2021-10-04T15:21:27.091009Z",
     "start_time": "2021-10-04T15:21:26.817456Z"
    },
    "hidden": true
   },
   "outputs": [],
   "source": [
    "plt.figure()\n",
    "spos = pyaccel.lattice.find_spos(model)\n",
    "plt.plot(spos, codx[0, :]*1e6, label=r'$x$', color='C4')\n",
    "plt.plot(spos[bpmidx], codx[0, bpmidx]*1e6, '-o', color='C0')\n",
    "plt.plot(spos, codx[2, :]*1e6, label=r'$y$')\n",
    "plt.plot(spos[bpmidx], codx[2, bpmidx]*1e6, '-o', color='C1')\n",
    "\n",
    "plt.xlabel('s [m]')\n",
    "plt.ylabel(r'Closed orbit [um]')\n",
    "plt.title('Horizontal Kick')\n",
    "plt.legend()\n",
    "plt.tight_layout()\n",
    "plt.show()"
   ]
  },
  {
   "cell_type": "code",
   "execution_count": 88,
   "metadata": {
    "ExecuteTime": {
     "end_time": "2021-10-04T15:21:27.306861Z",
     "start_time": "2021-10-04T15:21:27.092163Z"
    },
    "hidden": true
   },
   "outputs": [],
   "source": [
    "plt.figure()\n",
    "spos = pyaccel.lattice.find_spos(model)\n",
    "plt.plot(spos, cody[0, :]*1e6, label=r'$x$')\n",
    "plt.plot(spos[bpmidx], cody[0, bpmidx]*1e6, 'o', color='C0')\n",
    "plt.plot(spos, cody[2, :]*1e6, label=r'$y$')\n",
    "plt.plot(spos[bpmidx], cody[2, bpmidx]*1e6, 'o', color='C1')\n",
    "plt.xlabel('s [m]')\n",
    "plt.ylabel(r'Closed orbit [um]')\n",
    "plt.title('Vertical Kick')\n",
    "plt.legend()\n",
    "plt.tight_layout()\n",
    "plt.show()"
   ]
  },
  {
   "cell_type": "code",
   "execution_count": 91,
   "metadata": {
    "ExecuteTime": {
     "end_time": "2021-10-04T15:21:27.536555Z",
     "start_time": "2021-10-04T15:21:27.307949Z"
    },
    "hidden": true
   },
   "outputs": [],
   "source": [
    "plt.figure()\n",
    "spos = pyaccel.lattice.find_spos(model)\n",
    "plt.plot(spos, codrf[0, :]*1e6, label=r'$x$')\n",
    "plt.plot(spos[bpmidx], codrf[0, bpmidx]*1e6, '.', color='C0')\n",
    "plt.plot(spos, codrf[2, :]*1e6, label=r'$y$')\n",
    "plt.plot(spos[bpmidx], codrf[2, bpmidx]*1e6, '.', color='C1')\n",
    "plt.xlabel('s [m]')\n",
    "plt.ylabel(r'Closed orbit [um]')\n",
    "plt.title('RF Frequency Variation')\n",
    "plt.legend()\n",
    "plt.tight_layout()\n",
    "plt.show()"
   ]
  },
  {
   "cell_type": "markdown",
   "metadata": {
    "heading_collapsed": true
   },
   "source": [
    "### Tracking"
   ]
  },
  {
   "cell_type": "code",
   "execution_count": 94,
   "metadata": {
    "ExecuteTime": {
     "end_time": "2021-10-04T15:21:27.758010Z",
     "start_time": "2021-10-04T15:21:27.537657Z"
    },
    "hidden": true
   },
   "outputs": [],
   "source": [
    "model = pymodels.si.create_accelerator()\n",
    "model.cavity_on = False\n",
    "model.radiation_on = False\n",
    "model.vchamber_on = True"
   ]
  },
  {
   "cell_type": "code",
   "execution_count": 95,
   "metadata": {
    "ExecuteTime": {
     "end_time": "2021-10-04T15:21:27.771299Z",
     "start_time": "2021-10-04T15:21:27.759141Z"
    },
    "hidden": true
   },
   "outputs": [],
   "source": [
    "x0 = 100e-6\n",
    "y0 = 1e-6\n",
    "# nturns = 100\n",
    "\n",
    "coord_ini = np.array([x0, 0, y0, 0, 0, 0])\n",
    "coord_fin, *_ = pyaccel.tracking.line_pass(model, coord_ini, indices='open')"
   ]
  },
  {
   "cell_type": "code",
   "execution_count": 97,
   "metadata": {
    "ExecuteTime": {
     "end_time": "2021-10-04T15:21:28.113521Z",
     "start_time": "2021-10-04T15:21:27.772338Z"
    },
    "hidden": true
   },
   "outputs": [],
   "source": [
    "plt.figure()\n",
    "spos = pyaccel.lattice.find_spos(model)\n",
    "\n",
    "label = f\"$x_0={coord_ini[0]*1e6:.1f}um, x_0'={coord_ini[1]*1e6:.1f}urad$\"\n",
    "plt.plot(spos, coord_fin[0, :]*1e6, ls='-')\n",
    "plt.xlabel('s [m]')\n",
    "plt.ylabel(\"x [um]\")\n",
    "plt.title('Phase Space ' + label)\n",
    "plt.tight_layout()\n",
    "plt.show()"
   ]
  },
  {
   "cell_type": "code",
   "execution_count": 99,
   "metadata": {
    "ExecuteTime": {
     "end_time": "2021-10-04T15:21:28.287878Z",
     "start_time": "2021-10-04T15:21:28.114682Z"
    },
    "hidden": true
   },
   "outputs": [],
   "source": [
    "plt.figure()\n",
    "spos = pyaccel.lattice.find_spos(model)\n",
    "\n",
    "label = f\"$y_0={coord_ini[2]*1e6:.1f}um, y_0'={coord_ini[3]*1e6:.1f}urad$\"\n",
    "plt.plot(spos, coord_fin[2, :]*1e6, ls='-')\n",
    "plt.xlabel('s [m]')\n",
    "plt.ylabel(\"y [um]\")\n",
    "plt.title('Phase Space ' + label)\n",
    "plt.tight_layout()\n",
    "plt.show()"
   ]
  },
  {
   "cell_type": "code",
   "execution_count": 100,
   "metadata": {
    "ExecuteTime": {
     "end_time": "2021-10-04T15:21:31.401895Z",
     "start_time": "2021-10-04T15:21:28.289013Z"
    },
    "hidden": true
   },
   "outputs": [],
   "source": [
    "x0 = 1e-6\n",
    "y0 = 1e-6\n",
    "nturns = 2000\n",
    "\n",
    "coord_ini = np.array([x0, 0, y0, 0, 0, 0])\n",
    "coord_fin, *_ = pyaccel.tracking.ring_pass(model, coord_ini, nr_turns=nturns, turn_by_turn=True, parallel=True)"
   ]
  },
  {
   "cell_type": "code",
   "execution_count": 102,
   "metadata": {
    "ExecuteTime": {
     "end_time": "2021-10-04T15:21:31.611417Z",
     "start_time": "2021-10-04T15:21:31.415809Z"
    },
    "hidden": true
   },
   "outputs": [],
   "source": [
    "plt.figure()\n",
    "\n",
    "label = f\"$x_0={coord_ini[0]*1e6:.1f}um, x_0'={coord_ini[1]*1e6:.1f}urad$\"\n",
    "plt.plot(coord_fin[0, :]*1e6, coord_fin[1, :]*1e6, marker='.', ls='')\n",
    "plt.xlabel('$x$ [um]')\n",
    "plt.ylabel(r\"$x'$ [urad]\")\n",
    "plt.title('Phase Space ' + label)\n",
    "plt.tight_layout()\n",
    "plt.show()"
   ]
  },
  {
   "cell_type": "code",
   "execution_count": 104,
   "metadata": {
    "ExecuteTime": {
     "end_time": "2021-10-04T15:21:31.787761Z",
     "start_time": "2021-10-04T15:21:31.616541Z"
    },
    "hidden": true
   },
   "outputs": [],
   "source": [
    "plt.figure()\n",
    "\n",
    "label = f\"$y_0={coord_ini[2]*1e6:.1f}um, y_0'={coord_ini[3]*1e6:.1f}urad$\"\n",
    "plt.plot(coord_fin[2, :]*1e6, coord_fin[3, :]*1e6, marker='.', ls='')\n",
    "plt.xlabel('$y$ [um]')\n",
    "plt.ylabel(r\"$y'$ [urad]\")\n",
    "plt.title('Phase Space ' + label)\n",
    "plt.tight_layout()\n",
    "plt.show()"
   ]
  },
  {
   "cell_type": "code",
   "execution_count": 114,
   "metadata": {
    "ExecuteTime": {
     "end_time": "2021-10-04T15:21:36.221868Z",
     "start_time": "2021-10-04T15:21:31.788888Z"
    },
    "hidden": true
   },
   "outputs": [],
   "source": [
    "# Switch to 6D tracking\n",
    "model.cavity_on = True\n",
    "model.radiation_on = True\n",
    "# orb = pyaccel.tracking.find_orbit6(model, indices=None).ravel()\n",
    "\n",
    "x0 = 5e-3\n",
    "nturns = 5000\n",
    "\n",
    "coord_ini = np.array([x0, 0, 1e-6, 0, 0, 0]) + orb\n",
    "coord_fin, *_ = pyaccel.tracking.ring_pass(model, coord_ini, nr_turns=nturns, turn_by_turn=True, parallel=True)"
   ]
  },
  {
   "cell_type": "code",
   "execution_count": 115,
   "metadata": {
    "ExecuteTime": {
     "end_time": "2021-10-04T15:21:36.428249Z",
     "start_time": "2021-10-04T15:21:36.227059Z"
    },
    "hidden": true
   },
   "outputs": [],
   "source": [
    "plt.figure()\n",
    "\n",
    "label = f\"$x_0={coord_ini[0]*1e6:.1f}um, x_0'={coord_ini[1]*1e6:.1f}urad$\"\n",
    "plt.plot(coord_fin[0, :]*1e6, coord_fin[1, :]*1e6, marker='.', ls='')\n",
    "plt.xlabel('$x$ [um]')\n",
    "plt.ylabel(r\"$x'$ [urad]\")\n",
    "plt.title('Phase Space ' + label)\n",
    "plt.tight_layout()\n",
    "plt.show()"
   ]
  },
  {
   "cell_type": "markdown",
   "metadata": {
    "heading_collapsed": true,
    "hidden": true
   },
   "source": [
    "#### Tracking a bunch of particles"
   ]
  },
  {
   "cell_type": "code",
   "execution_count": 116,
   "metadata": {
    "ExecuteTime": {
     "end_time": "2021-10-04T15:21:36.431260Z",
     "start_time": "2021-10-04T15:21:36.429510Z"
    },
    "hidden": true
   },
   "outputs": [],
   "source": [
    "# 4D first then switch to 6D\n",
    "model.cavity_on = False\n",
    "model.radiation_on = False"
   ]
  },
  {
   "cell_type": "code",
   "execution_count": 121,
   "metadata": {
    "ExecuteTime": {
     "end_time": "2021-10-04T15:21:36.541065Z",
     "start_time": "2021-10-04T15:21:36.432361Z"
    },
    "hidden": true
   },
   "outputs": [
    {
     "data": {
      "text/plain": [
       "(6, 200)"
      ]
     },
     "execution_count": 121,
     "metadata": {},
     "output_type": "execute_result"
    }
   ],
   "source": [
    "emit1 = eqparam.emit1\n",
    "emit2 = abs(eqparam.emit2)\n",
    "espread = eqparam.espread0\n",
    "bunlen = eqparam.bunlen\n",
    "npart = 200\n",
    "\n",
    "bunch = pyaccel.tracking.generate_bunch(\n",
    "    emit1=emit1, emit2=emit2, sigmae=espread, sigmas=bunlen, optics=twiss[0], n_part=npart, cutoff=3)\n",
    "bunch.shape"
   ]
  },
  {
   "cell_type": "code",
   "execution_count": 122,
   "metadata": {
    "ExecuteTime": {
     "end_time": "2021-10-04T15:22:05.437763Z",
     "start_time": "2021-10-04T15:21:36.545372Z"
    },
    "hidden": true
   },
   "outputs": [
    {
     "data": {
      "text/plain": [
       "(6, 200, 501)"
      ]
     },
     "execution_count": 122,
     "metadata": {},
     "output_type": "execute_result"
    }
   ],
   "source": [
    "nturns = 500\n",
    "bunch_tbt, *_ = pyaccel.tracking.ring_pass(model, bunch, nr_turns=nturns, turn_by_turn=True, parallel=True)\n",
    "bunch_tbt.shape"
   ]
  },
  {
   "cell_type": "code",
   "execution_count": 126,
   "metadata": {
    "ExecuteTime": {
     "end_time": "2021-10-04T15:22:05.863879Z",
     "start_time": "2021-10-04T15:22:05.439035Z"
    },
    "hidden": true
   },
   "outputs": [],
   "source": [
    "plt.figure(figsize=(12, 8))\n",
    "\n",
    "for part in range(10):\n",
    "    label = f\"$x_0={bunch_tbt[0, part, 0]*1e6:+04.0f}um, x_0'={bunch_tbt[1, part, 0]*1e6:+04.0f}urad$\"\n",
    "    plt.plot(bunch_tbt[0, part, :]*1e6, bunch_tbt[1, part, :]*1e6, marker='.', ls='', label=label)\n",
    "\n",
    "plt.xlabel('$x$ [um]')\n",
    "plt.ylabel(r\"$x'$ [urad]\")\n",
    "plt.title('Phase Space ')\n",
    "plt.legend(loc='center left', bbox_to_anchor=(1, 0.5))\n",
    "plt.tight_layout()\n",
    "plt.show()"
   ]
  },
  {
   "cell_type": "code",
   "execution_count": 127,
   "metadata": {
    "ExecuteTime": {
     "end_time": "2021-10-04T15:22:11.911221Z",
     "start_time": "2021-10-04T15:22:05.865020Z"
    },
    "hidden": true
   },
   "outputs": [
    {
     "data": {
      "text/plain": [
       "(6, 200, 101)"
      ]
     },
     "execution_count": 127,
     "metadata": {},
     "output_type": "execute_result"
    }
   ],
   "source": [
    "bunch[0] += 5e-3\n",
    "nturns = 100\n",
    "bunch_tbt2, *_ = pyaccel.tracking.ring_pass(model, bunch, nr_turns=nturns, turn_by_turn=True, parallel=True)\n",
    "bunch_tbt2.shape"
   ]
  },
  {
   "cell_type": "code",
   "execution_count": null,
   "metadata": {
    "ExecuteTime": {
     "end_time": "2021-10-04T15:22:12.663448Z",
     "start_time": "2021-10-04T15:22:11.916447Z"
    },
    "hidden": true
   },
   "outputs": [],
   "source": [
    "%matplotlib qt5"
   ]
  },
  {
   "cell_type": "code",
   "execution_count": 129,
   "metadata": {
    "ExecuteTime": {
     "end_time": "2021-10-04T15:23:04.698165Z",
     "start_time": "2021-10-04T15:22:12.666376Z"
    },
    "hidden": true
   },
   "outputs": [],
   "source": [
    "plt.figure(figsize=(8, 8))\n",
    "spos = pyaccel.lattice.find_spos(model)\n",
    "\n",
    "nt = bunch_tbt2.shape[2]-1\n",
    "cmap = plt.cm.jet(np.linspace(0, 1, nt+1))\n",
    "plt.xlim([-7e3, 6e3])\n",
    "plt.ylim([-400, 400])\n",
    "plt.xlabel('$x$ [um]')\n",
    "plt.ylabel(r\"$x'$ [urad]\")\n",
    "plt.title('Phase Space ')\n",
    "plt.tight_layout()\n",
    "for i, cor in enumerate(cmap):\n",
    "    plt.plot(bunch_tbt2[0, :, i]*1e6, bunch_tbt2[1, :, i]*1e6, marker='.', ls='', color=cor)\n",
    "    plt.pause(0.5)\n",
    "plt.show()"
   ]
  },
  {
   "cell_type": "code",
   "execution_count": 131,
   "metadata": {
    "ExecuteTime": {
     "end_time": "2021-10-04T15:23:05.430626Z",
     "start_time": "2021-10-04T15:23:04.699901Z"
    },
    "hidden": true
   },
   "outputs": [],
   "source": [
    "plt.figure(figsize=(8, 8))\n",
    "for i in range(npart):\n",
    "    plt.plot(bunch_tbt2[0, i, :]*1e6, color='C0', alpha=0.01)\n",
    "\n",
    "plt.plot(np.mean(bunch_tbt2[0, :, :], axis=0)*1e6, lw=2, color='tab:red', label='Centroid')\n",
    "plt.xlabel('turn index')\n",
    "plt.ylabel(r\"$x$ [um]\")\n",
    "plt.legend()\n",
    "plt.tight_layout()\n",
    "plt.show()"
   ]
  },
  {
   "cell_type": "markdown",
   "metadata": {
    "heading_collapsed": true
   },
   "source": [
    "### Lifetime"
   ]
  },
  {
   "cell_type": "code",
   "execution_count": 154,
   "metadata": {},
   "outputs": [],
   "source": [
    "model.cavity_on=True\n",
    "model.radiation_on=True\n",
    "model.vchamber_on=True"
   ]
  },
  {
   "cell_type": "code",
   "execution_count": 155,
   "metadata": {
    "ExecuteTime": {
     "end_time": "2021-10-04T15:20:53.406190Z",
     "start_time": "2021-10-04T15:20:51.054761Z"
    },
    "hidden": true
   },
   "outputs": [],
   "source": [
    "ltime = pyaccel.lifetime.Lifetime(model)\n",
    "spos = twiss.spos"
   ]
  },
  {
   "cell_type": "code",
   "execution_count": 158,
   "metadata": {
    "ExecuteTime": {
     "end_time": "2021-10-04T15:20:53.409068Z",
     "start_time": "2021-10-04T15:20:53.407336Z"
    },
    "hidden": true
   },
   "outputs": [],
   "source": [
    "ltime.curr_per_bunch = 100/864\n",
    "ltime.avg_pressure = 2e-9"
   ]
  },
  {
   "cell_type": "code",
   "execution_count": 159,
   "metadata": {
    "ExecuteTime": {
     "end_time": "2021-10-04T15:20:55.631703Z",
     "start_time": "2021-10-04T15:20:53.410135Z"
    },
    "hidden": true
   },
   "outputs": [
    {
     "data": {
      "text/plain": [
       "(inf, inf)"
      ]
     },
     "execution_count": 159,
     "metadata": {},
     "output_type": "execute_result"
    }
   ],
   "source": [
    "ltime.lifetime_touschek/3600, float(ltime.lifetime_total/3600)"
   ]
  },
  {
   "cell_type": "code",
   "execution_count": 160,
   "metadata": {
    "ExecuteTime": {
     "end_time": "2021-10-04T15:21:23.602552Z",
     "start_time": "2021-10-04T15:20:55.632938Z"
    },
    "hidden": true
   },
   "outputs": [
    {
     "ename": "AttributeError",
     "evalue": "module 'pyaccel.optics' has no attribute 'calc_tousheck_energy_acceptance'",
     "output_type": "error",
     "traceback": [
      "\u001b[0;31m---------------------------------------------------------------------------\u001b[0m",
      "\u001b[0;31mAttributeError\u001b[0m                            Traceback (most recent call last)",
      "Input \u001b[0;32mIn [160]\u001b[0m, in \u001b[0;36m<cell line: 1>\u001b[0;34m()\u001b[0m\n\u001b[0;32m----> 1\u001b[0m enaccn, enaccp \u001b[38;5;241m=\u001b[39m \u001b[43mpyaccel\u001b[49m\u001b[38;5;241;43m.\u001b[39;49m\u001b[43moptics\u001b[49m\u001b[38;5;241;43m.\u001b[39;49m\u001b[43mcalc_tousheck_energy_acceptance\u001b[49m(model)\n\u001b[1;32m      2\u001b[0m enaccn \u001b[38;5;241m=\u001b[39m np\u001b[38;5;241m.\u001b[39mmaximum(enaccn, \u001b[38;5;241m-\u001b[39mltime\u001b[38;5;241m.\u001b[39mequi_params\u001b[38;5;241m.\u001b[39mrf_acceptance)\n\u001b[1;32m      3\u001b[0m enaccp \u001b[38;5;241m=\u001b[39m np\u001b[38;5;241m.\u001b[39mminimum(enaccp, ltime\u001b[38;5;241m.\u001b[39mequi_params\u001b[38;5;241m.\u001b[39mrf_acceptance)\n",
      "\u001b[0;31mAttributeError\u001b[0m: module 'pyaccel.optics' has no attribute 'calc_tousheck_energy_acceptance'"
     ]
    }
   ],
   "source": [
    "enaccn, enaccp = pyaccel.optics.calc_tousheck_energy_acceptance(model)\n",
    "enaccn = np.maximum(enaccn, -ltime.equi_params.rf_acceptance)\n",
    "enaccp = np.minimum(enaccp, ltime.equi_params.rf_acceptance)\n",
    "ltime.accepen = (enaccn, enaccp)"
   ]
  },
  {
   "cell_type": "markdown",
   "metadata": {},
   "source": [
    "Life time "
   ]
  },
  {
   "cell_type": "code",
   "execution_count": null,
   "metadata": {
    "ExecuteTime": {
     "end_time": "2021-10-04T15:21:24.956507Z",
     "start_time": "2021-10-04T15:21:23.603872Z"
    },
    "hidden": true
   },
   "outputs": [],
   "source": [
    "plt.figure()\n",
    "plt.plot(spos, enaccn*100)\n",
    "plt.plot(spos, enaccp*100)\n",
    "plt.xlabel('s [m]')\n",
    "plt.ylabel(r'Touschek Energy Acceptance [%]')\n",
    "plt.title('Energy Acceptance')\n",
    "plt.xlim([0, model.length/20])\n",
    "pyaccel.graphics.draw_lattice(model, offset=0, height=1, gca=True)\n",
    "plt.tight_layout()\n",
    "plt.show()"
   ]
  },
  {
   "cell_type": "code",
   "execution_count": null,
   "metadata": {
    "ExecuteTime": {
     "end_time": "2021-10-04T15:21:25.500259Z",
     "start_time": "2021-10-04T15:21:24.957983Z"
    },
    "hidden": true
   },
   "outputs": [],
   "source": [
    "ltime.lifetime_touschek/3600, float(ltime.lifetime_total/3600)"
   ]
  }
 ],
 "metadata": {
  "hide_input": false,
  "kernelspec": {
   "display_name": "Python 3 (ipykernel)",
   "language": "python",
   "name": "python3"
  },
  "language_info": {
   "codemirror_mode": {
    "name": "ipython",
    "version": 3
   },
   "file_extension": ".py",
   "mimetype": "text/x-python",
   "name": "python",
   "nbconvert_exporter": "python",
   "pygments_lexer": "ipython3",
   "version": "3.9.2"
  },
  "toc": {
   "base_numbering": 1,
   "nav_menu": {},
   "number_sections": true,
   "sideBar": true,
   "skip_h1_title": false,
   "title_cell": "Table of Contents",
   "title_sidebar": "Contents",
   "toc_cell": false,
   "toc_position": {
    "height": "calc(100% - 180px)",
    "left": "10px",
    "top": "150px",
    "width": "310.167px"
   },
   "toc_section_display": true,
   "toc_window_display": true
  },
  "varInspector": {
   "cols": {
    "lenName": 16,
    "lenType": 16,
    "lenVar": 40
   },
   "kernels_config": {
    "python": {
     "delete_cmd_postfix": "",
     "delete_cmd_prefix": "del ",
     "library": "var_list.py",
     "varRefreshCmd": "print(var_dic_list())"
    },
    "r": {
     "delete_cmd_postfix": ") ",
     "delete_cmd_prefix": "rm(",
     "library": "var_list.r",
     "varRefreshCmd": "cat(var_dic_list()) "
    }
   },
   "types_to_exclude": [
    "module",
    "function",
    "builtin_function_or_method",
    "instance",
    "_Feature"
   ],
   "window_display": false
  }
 },
 "nbformat": 4,
 "nbformat_minor": 2
}
