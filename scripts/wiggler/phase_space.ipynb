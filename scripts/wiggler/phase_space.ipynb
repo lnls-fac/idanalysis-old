{
 "cells": [
  {
   "cell_type": "code",
   "execution_count": 1,
   "id": "af690182",
   "metadata": {},
   "outputs": [],
   "source": [
    "%matplotlib qt5\n",
    "\n",
    "import time\n",
    "from copy import deepcopy\n",
    "\n",
    "import matplotlib.pyplot as mplt\n",
    "\n",
    "mplt.rcParams.update({\n",
    "    'font.size': 18, 'axes.grid': True, 'grid.alpha': 0.5,\n",
    "    'grid.linestyle': '--', 'grid.linewidth': 1})\n",
    "\n",
    "import numpy as np\n",
    "\n",
    "import pyaccel as pyaccel\n",
    "from apsuite.dynap import DynapXY, DynapEX, PhaseSpace\n",
    "\n",
    "import pymodels\n",
    "\n",
    "from idanalysis import orbcorr as orbcorr\n",
    "from idanalysis import model as model\n",
    "from idanalysis import optics as optics\n",
    "\n",
    "import utils"
   ]
  },
  {
   "cell_type": "code",
   "execution_count": 2,
   "id": "78298845",
   "metadata": {},
   "outputs": [],
   "source": [
    "def create_model_bare():\n",
    "    \"\"\".\"\"\"\n",
    "    print('--- model bare ---')\n",
    "    model = pymodels.si.create_accelerator()\n",
    "    twiss, *_ = pyaccel.optics.calc_twiss(model, indices='closed')\n",
    "    print('length : {:.4f} m'.format(model.length))\n",
    "    print('tunex  : {:.6f}'.format(twiss.mux[-1]/2/np.pi))\n",
    "    print('tuney  : {:.6f}'.format(twiss.muy[-1]/2/np.pi))\n",
    "    return model, twiss"
   ]
  },
  {
   "cell_type": "code",
   "execution_count": 3,
   "id": "d075e0ba",
   "metadata": {},
   "outputs": [
    {
     "name": "stderr",
     "output_type": "stream",
     "text": [
      "Warning: Ignoring XDG_SESSION_TYPE=wayland on Gnome. Use QT_QPA_PLATFORM=wayland to run on Wayland anyway.\n"
     ]
    }
   ],
   "source": [
    "def create_model_ids(idconfig):\n",
    "    \"\"\".\"\"\"\n",
    "    print('--- model with kick-model wiggler ---')\n",
    "    ids = utils.create_ids(idconfig=idconfig, rescale_kicks=1)\n",
    "    model = pymodels.si.create_accelerator(ids=ids)\n",
    "    twiss, *_ = pyaccel.optics.calc_twiss(model, indices='closed')\n",
    "    print('length : {:.4f} m'.format(model.length))\n",
    "    print('tunex  : {:.6f}'.format(twiss.mux[-1]/2/np.pi))\n",
    "    print('tuney  : {:.6f}'.format(twiss.muy[-1]/2/np.pi))\n",
    "    return model, twiss, ids\n"
   ]
  },
  {
   "cell_type": "code",
   "execution_count": 8,
   "id": "d0cd0f6c",
   "metadata": {},
   "outputs": [
    {
     "name": "stdout",
     "output_type": "stream",
     "text": [
      "--- model bare ---\n",
      "length : 518.3899 m\n",
      "tunex  : 49.096188\n",
      "tuney  : 14.151943\n",
      "\n"
     ]
    }
   ],
   "source": [
    "idconfig = 'ID4019'\n",
    "# bare lattice\n",
    "ring0, twiss0 = create_model_bare()\n",
    "ring0.radiation_on = 0\n",
    "ring0.cavity_on = False\n",
    "ring0.vchamber_on = True\n",
    "print()\n",
    "    \n",
    "ph_space= PhaseSpace(ring0)\n",
    "ph_space.params.x_nrpts = 40\n",
    "ph_space.params.y_nrpts = 20\n",
    "ph_space.params.de_nrpts = 50\n",
    "ph_space.params.x_min = -10e-3\n",
    "ph_space.params.y_max = 3e-3\n",
    "ph_space.do_tracking()\n",
    "ph_space.process_data()\n",
    "fi, *axs = ph_space.make_figure(orders=3)"
   ]
  },
  {
   "cell_type": "code",
   "execution_count": 7,
   "id": "f1918c00",
   "metadata": {},
   "outputs": [
    {
     "name": "stdout",
     "output_type": "stream",
     "text": [
      "--- model with kick-model wiggler ---\n",
      "/home/gabriel/repos-dev/idanalysis/scripts/wiggler/results/ID4019/kickmap-ID4019.txt\n",
      "length : 518.3899 m\n",
      "tunex  : 49.095965\n",
      "tuney  : 14.152061\n"
     ]
    }
   ],
   "source": [
    "# lattice with IDs\n",
    "ring1, twiss1, ids = create_model_ids(idconfig=idconfig)\n",
    "ring1.radiation_on = 0\n",
    "ring1.cavity_on = False\n",
    "ring1.vchamber_on = True\n",
    "ph_space_ID= PhaseSpace(ring1)\n",
    "ph_space_ID.params.x_nrpts = 40\n",
    "ph_space_ID.params.y_nrpts = 20\n",
    "ph_space_ID.params.de_nrpts = 50\n",
    "ph_space_ID.params.x_min = -10e-3\n",
    "ph_space_ID.params.y_max = 3e-3\n",
    "ph_space_ID.do_tracking()\n",
    "ph_space_ID.process_data()\n",
    "fi, *axs = ph_space_ID.make_figure(orders=3)"
   ]
  }
 ],
 "metadata": {
  "kernelspec": {
   "display_name": "Python 3 (ipykernel)",
   "language": "python",
   "name": "python3"
  },
  "language_info": {
   "codemirror_mode": {
    "name": "ipython",
    "version": 3
   },
   "file_extension": ".py",
   "mimetype": "text/x-python",
   "name": "python",
   "nbconvert_exporter": "python",
   "pygments_lexer": "ipython3",
   "version": "3.9.2"
  }
 },
 "nbformat": 4,
 "nbformat_minor": 5
}
